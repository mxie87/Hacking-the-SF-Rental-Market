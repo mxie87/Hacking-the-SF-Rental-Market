{
 "cells": [
  {
   "cell_type": "markdown",
   "metadata": {},
   "source": [
    "# PROJECT LUTHER - HACKING THE SF RENTAL MARKET\n",
    "\n",
    "__Project Goals:__ \n",
    "\n",
    "Determine key parameters/features of home rentals that dictates it's rental price in the city of San Francisco. Highlight key features to inform and provide guidelines to budget-constrained rentees.\n",
    "\n",
    "__Project Approach:__\n",
    "\n",
    "1. Scrape data from cragslist using Beautifulsoup4 \n",
    "2. Perform linear regression analysis using StatsModels and scikit-learn libraries\n",
    "\n",
    "\n",
    "__Project Notes:__\n",
    "\n",
    "The following notebook analyzes data scraped from Craigslist. Craigslist (https://sfbay.craigslist.org/d/apts-housing-for-rent/search/apa) is a popular website for rentees as it contains a large selection of listings with lower prices compared to more modern and newer apartment complexes that are professionally managed or requires management fees. Most of the listings are put up by self managing landlords of tenants looking to sublet a room. Over 3000 listings were scraped between October 6 and 7, 2018. Of the 3000 listings scraped only 763 were unique. These 763 datapoints were used for this analysis. "
   ]
  },
  {
   "cell_type": "markdown",
   "metadata": {},
   "source": [
    "Note: \n",
    "Several different .ipynb files were used for this project: \n",
    "\n",
    "* **CL_Scrape_2.ipynb** was used to scrape Craiglist and append data to CSV file\n",
    "* **ReverseGeoCoding.ipynb** was used to load in CSV file, convert and clean dataframe, and outputted csv file to be used for a reverse geocoding service to extract location data. After location data was retreived, this same notebook was used to load in the new csv with location data and merge with previous csv file.   \n",
    "* Lastly, this notebook, **Project_Luter_SF_Rentals.ipynb**, was used for some final cleaning/modification of the dataframe and performing all statiscal analysis"
   ]
  },
  {
   "cell_type": "code",
   "execution_count": 1,
   "metadata": {},
   "outputs": [],
   "source": [
    "# all of the imports\n",
    "import pandas as pd\n",
    "import numpy as np\n",
    "import pickle \n",
    "import patsy\n",
    "import statsmodels.api as sm\n",
    "import statsmodels.formula.api as smf\n",
    "import matplotlib.pyplot as plt\n",
    "import seaborn as sns\n",
    "from sklearn.linear_model import LinearRegression, Lasso, Ridge\n",
    "from sklearn import metrics\n",
    "from sklearn.preprocessing import PolynomialFeatures\n",
    "from sklearn.pipeline import make_pipeline\n",
    "from sklearn.model_selection import train_test_split\n",
    "from sklearn.model_selection import KFold\n",
    "from sklearn.preprocessing import StandardScaler\n",
    "from sklearn.model_selection import cross_val_score\n",
    "from sklearn import feature_selection as f_select\n",
    "from sklearn.linear_model import RidgeCV\n",
    "% matplotlib inline\n",
    "\n",
    "import warnings\n",
    "warnings.filterwarnings('ignore')"
   ]
  },
  {
   "cell_type": "markdown",
   "metadata": {},
   "source": [
    "## Data cleaning, Preprocessing, Feature Engineering"
   ]
  },
  {
   "cell_type": "code",
   "execution_count": 2,
   "metadata": {},
   "outputs": [],
   "source": [
    "# load in dataframe\n",
    "df = pd.read_csv('/Users/medfordxie/Desktop/DS/Project_Luther/csv files/cleaned_sf.csv')"
   ]
  },
  {
   "cell_type": "markdown",
   "metadata": {},
   "source": [
    "**Check to see how many entries are in each features. For smaller amount of entries, the stats model may not account for lower frequency entries (unweighted). Need to do a separate anaylysis to adjust for it.** "
   ]
  },
  {
   "cell_type": "code",
   "execution_count": 74,
   "metadata": {
    "collapsed": true
   },
   "outputs": [
    {
     "data": {
      "text/plain": [
       "Unnamed: 0                                                         1305838\n",
       "title                    1/2 Block From GG Park| Remodeled 3BR/2BA W/ P...\n",
       "rental price                                                       2776144\n",
       "bedrooms                                                              1065\n",
       "bathrooms                                                            881.5\n",
       "Area (SF)                                                           303854\n",
       "latitude,longitude       (37.773854, -122.477838)(37.804917, -122.44213...\n",
       "cats are OK - purrr                                                    379\n",
       "dogs are OK - wooof                                                    345\n",
       "w/d in unit                                                              0\n",
       "wd in unit                                                             283\n",
       "laundry in bldg                                                        264\n",
       "laundry on site                                                         64\n",
       "attached garage                                                        249\n",
       "detached garage                                                         26\n",
       "carport                                                                 14\n",
       "furnished                                                               66\n",
       "no smoking                                                             478\n",
       "wheelchair accessible                                                   80\n",
       "lat.                                                               28821.5\n",
       "long.                                                             -93413.2\n",
       "Accuracy Score                                                      762.98\n",
       "Accuracy Type            rooftoprooftoprooftoprooftoprooftopnearest_str...\n",
       "Number                                                              966591\n",
       "Street                   19th AveScott StDivisadero St23rd AveBeale St2...\n",
       "City                     San FranciscoSan FranciscoSan FranciscoSan Fra...\n",
       "State                    CACACACACACACACACACACACACACACACACACACACACACACA...\n",
       "County                   San Francisco CountySan Francisco CountySan Fr...\n",
       "Zip                                                               71810755\n",
       "pets_allowed                                                           331\n",
       "laundry in unit                                                        283\n",
       "laundry on premise                                                     328\n",
       "parking available                                                      289\n",
       "dtype: object"
      ]
     },
     "execution_count": 74,
     "metadata": {},
     "output_type": "execute_result"
    }
   ],
   "source": [
    "df.sum()"
   ]
  },
  {
   "cell_type": "markdown",
   "metadata": {},
   "source": [
    "**Names of target and features**\n",
    "\n",
    "Y = 'rental price'\n",
    "\n",
    "X = 'title','bedrooms','bathrooms','Area (SF)','cats are OK - purrr', \n",
    "'dogs are OK - wooof','w/d in unit','wd in unit','laundry in bldg','laundry on site','attached garage','detached garage','carport','furnished','no smoking','wheelchair accessible', 'Zip'\n",
    "\n",
    "\n",
    "The following sections will combine some of these features into one. (i.e. listings with both \"cats are ok\" and \"dogs are ok\" will be counted as \"pets allowed\")\n",
    "\n",
    "---"
   ]
  },
  {
   "cell_type": "markdown",
   "metadata": {},
   "source": [
    "combine \"cats are ok\" and \"dogs are ok\" as \"pets allowed\"  \n",
    "NOTE: additional 34 listings allowed cats only, but not dogs. They will be excluded from \"pets_allowed\""
   ]
  },
  {
   "cell_type": "code",
   "execution_count": 4,
   "metadata": {
    "collapsed": true
   },
   "outputs": [
    {
     "data": {
      "text/plain": [
       "0      0\n",
       "1      1\n",
       "2      1\n",
       "3      0\n",
       "4      0\n",
       "5      0\n",
       "6      0\n",
       "7      1\n",
       "8      0\n",
       "9      0\n",
       "10     0\n",
       "11     0\n",
       "12     0\n",
       "13     0\n",
       "14     0\n",
       "15     0\n",
       "16     0\n",
       "17     0\n",
       "18     0\n",
       "19     0\n",
       "20     0\n",
       "21     1\n",
       "22     0\n",
       "23     0\n",
       "24     1\n",
       "25     0\n",
       "26     1\n",
       "27     1\n",
       "28     0\n",
       "29     0\n",
       "      ..\n",
       "733    0\n",
       "734    1\n",
       "735    1\n",
       "736    0\n",
       "737    0\n",
       "738    0\n",
       "739    1\n",
       "740    0\n",
       "741    1\n",
       "742    1\n",
       "743    1\n",
       "744    1\n",
       "745    0\n",
       "746    1\n",
       "747    0\n",
       "748    0\n",
       "749    0\n",
       "750    0\n",
       "751    0\n",
       "752    0\n",
       "753    0\n",
       "754    1\n",
       "755    0\n",
       "756    1\n",
       "757    0\n",
       "758    0\n",
       "759    0\n",
       "760    0\n",
       "761    1\n",
       "762    0\n",
       "Name: cats are OK - purrr, Length: 763, dtype: int64"
      ]
     },
     "execution_count": 4,
     "metadata": {},
     "output_type": "execute_result"
    }
   ],
   "source": [
    "df['dogs are OK - wooof'].astype(int,inplace = True)\n",
    "df['cats are OK - purrr'].astype(int,inplace = True)"
   ]
  },
  {
   "cell_type": "code",
   "execution_count": 5,
   "metadata": {},
   "outputs": [],
   "source": [
    "def pets(row):\n",
    "    if row['dogs are OK - wooof'] == 1 & row['cats are OK - purrr'] == 1:\n",
    "        val = 1\n",
    "    else:\n",
    "        val = 0\n",
    "    return val"
   ]
  },
  {
   "cell_type": "code",
   "execution_count": 6,
   "metadata": {},
   "outputs": [],
   "source": [
    "df['pets_allowed'] = df.apply(pets, axis=1)"
   ]
  },
  {
   "cell_type": "code",
   "execution_count": 7,
   "metadata": {},
   "outputs": [
    {
     "data": {
      "text/plain": [
       "0    432\n",
       "1    331\n",
       "Name: pets_allowed, dtype: int64"
      ]
     },
     "execution_count": 7,
     "metadata": {},
     "output_type": "execute_result"
    }
   ],
   "source": [
    "df.pets_allowed.value_counts()"
   ]
  },
  {
   "cell_type": "markdown",
   "metadata": {},
   "source": [
    "combine 'w/d in unit' and 'wd in unit' as 'laundry in unit'"
   ]
  },
  {
   "cell_type": "code",
   "execution_count": 8,
   "metadata": {},
   "outputs": [
    {
     "data": {
      "text/plain": [
       "283"
      ]
     },
     "execution_count": 8,
     "metadata": {},
     "output_type": "execute_result"
    }
   ],
   "source": [
    "df['laundry in unit'] = df['w/d in unit'] + df['wd in unit']\n",
    "df['laundry in unit'].sum()"
   ]
  },
  {
   "cell_type": "markdown",
   "metadata": {},
   "source": [
    "combine 'laundry in bldg' and 'laundry on site' as \"laundry on premise\""
   ]
  },
  {
   "cell_type": "code",
   "execution_count": 9,
   "metadata": {},
   "outputs": [
    {
     "data": {
      "text/plain": [
       "328"
      ]
     },
     "execution_count": 9,
     "metadata": {},
     "output_type": "execute_result"
    }
   ],
   "source": [
    "df['laundry on premise'] = df['laundry in bldg'] + df['laundry on site']\n",
    "df['laundry on premise'].sum()"
   ]
  },
  {
   "cell_type": "markdown",
   "metadata": {},
   "source": [
    "combine 'attached garage' and 'detached garage','carport' as \"parking available\""
   ]
  },
  {
   "cell_type": "code",
   "execution_count": 10,
   "metadata": {},
   "outputs": [
    {
     "data": {
      "text/plain": [
       "289"
      ]
     },
     "execution_count": 10,
     "metadata": {},
     "output_type": "execute_result"
    }
   ],
   "source": [
    "df['parking available'] = df['attached garage'] + df['detached garage'] + df['carport']\n",
    "df['parking available'].sum()"
   ]
  },
  {
   "cell_type": "code",
   "execution_count": 11,
   "metadata": {
    "collapsed": true
   },
   "outputs": [
    {
     "data": {
      "text/plain": [
       "0      0\n",
       "1      1\n",
       "2      1\n",
       "3      0\n",
       "4      0\n",
       "5      0\n",
       "6      0\n",
       "7      1\n",
       "8      0\n",
       "9      0\n",
       "10     0\n",
       "11     0\n",
       "12     0\n",
       "13     0\n",
       "14     0\n",
       "15     0\n",
       "16     0\n",
       "17     0\n",
       "18     0\n",
       "19     0\n",
       "20     0\n",
       "21     1\n",
       "22     0\n",
       "23     0\n",
       "24     1\n",
       "25     0\n",
       "26     1\n",
       "27     1\n",
       "28     0\n",
       "29     0\n",
       "      ..\n",
       "733    0\n",
       "734    1\n",
       "735    1\n",
       "736    0\n",
       "737    0\n",
       "738    0\n",
       "739    1\n",
       "740    0\n",
       "741    1\n",
       "742    1\n",
       "743    1\n",
       "744    1\n",
       "745    0\n",
       "746    1\n",
       "747    0\n",
       "748    0\n",
       "749    0\n",
       "750    0\n",
       "751    0\n",
       "752    0\n",
       "753    0\n",
       "754    1\n",
       "755    0\n",
       "756    1\n",
       "757    0\n",
       "758    0\n",
       "759    0\n",
       "760    0\n",
       "761    1\n",
       "762    0\n",
       "Name: pets_allowed, Length: 763, dtype: int64"
      ]
     },
     "execution_count": 11,
     "metadata": {},
     "output_type": "execute_result"
    }
   ],
   "source": [
    "df['pets_allowed'].fillna(0, inplace=True)\n",
    "df['pets_allowed'] = df['pets_allowed'].astype(int)\n",
    "df['pets_allowed']"
   ]
  },
  {
   "cell_type": "markdown",
   "metadata": {},
   "source": [
    "There are only 9-12 listings without bathroom info, they all happen to be 1 or 2 bedrooms,\n",
    "therefore it is reasonable to assume there is only 1 bathroom in those units  \n",
    "NOTE: this apparently didn't work - was fixed in section below"
   ]
  },
  {
   "cell_type": "code",
   "execution_count": 12,
   "metadata": {},
   "outputs": [],
   "source": [
    "missing_bathroom = df[df['bathrooms'].isnull()]\n",
    "df['bathrooms'].fillna(1,inplace=True)"
   ]
  },
  {
   "cell_type": "markdown",
   "metadata": {},
   "source": [
    "change zip codes from float to integer"
   ]
  },
  {
   "cell_type": "code",
   "execution_count": 13,
   "metadata": {
    "scrolled": true
   },
   "outputs": [],
   "source": [
    "df.Zip=df.Zip.astype(int)"
   ]
  },
  {
   "cell_type": "markdown",
   "metadata": {},
   "source": [
    "created new dataframe titled, new_df to include the combined features"
   ]
  },
  {
   "cell_type": "code",
   "execution_count": 14,
   "metadata": {},
   "outputs": [
    {
     "data": {
      "text/html": [
       "<div>\n",
       "<style scoped>\n",
       "    .dataframe tbody tr th:only-of-type {\n",
       "        vertical-align: middle;\n",
       "    }\n",
       "\n",
       "    .dataframe tbody tr th {\n",
       "        vertical-align: top;\n",
       "    }\n",
       "\n",
       "    .dataframe thead th {\n",
       "        text-align: right;\n",
       "    }\n",
       "</style>\n",
       "<table border=\"1\" class=\"dataframe\">\n",
       "  <thead>\n",
       "    <tr style=\"text-align: right;\">\n",
       "      <th></th>\n",
       "      <th>title</th>\n",
       "      <th>rental price</th>\n",
       "      <th>bedrooms</th>\n",
       "      <th>bathrooms</th>\n",
       "      <th>Area (SF)</th>\n",
       "      <th>pets_allowed</th>\n",
       "      <th>laundry in unit</th>\n",
       "      <th>laundry on premise</th>\n",
       "      <th>furnished</th>\n",
       "      <th>parking available</th>\n",
       "      <th>no smoking</th>\n",
       "      <th>wheelchair accessible</th>\n",
       "      <th>Zip</th>\n",
       "    </tr>\n",
       "  </thead>\n",
       "  <tbody>\n",
       "    <tr>\n",
       "      <th>0</th>\n",
       "      <td>1/2 Block From GG Park| Remodeled 3BR/2BA W/ P...</td>\n",
       "      <td>4995</td>\n",
       "      <td>3</td>\n",
       "      <td>2.0</td>\n",
       "      <td>NaN</td>\n",
       "      <td>0</td>\n",
       "      <td>1</td>\n",
       "      <td>0</td>\n",
       "      <td>0</td>\n",
       "      <td>1</td>\n",
       "      <td>1</td>\n",
       "      <td>0</td>\n",
       "      <td>94121</td>\n",
       "    </tr>\n",
       "    <tr>\n",
       "      <th>1</th>\n",
       "      <td>Set Sail for Marina Green 1BR + Den. $95 Depos...</td>\n",
       "      <td>4795</td>\n",
       "      <td>2</td>\n",
       "      <td>1.0</td>\n",
       "      <td>NaN</td>\n",
       "      <td>1</td>\n",
       "      <td>1</td>\n",
       "      <td>0</td>\n",
       "      <td>0</td>\n",
       "      <td>0</td>\n",
       "      <td>1</td>\n",
       "      <td>0</td>\n",
       "      <td>94123</td>\n",
       "    </tr>\n",
       "    <tr>\n",
       "      <th>2</th>\n",
       "      <td>Marina Penthouse.  Palace VIEWS.  Peak Inside....</td>\n",
       "      <td>7495</td>\n",
       "      <td>3</td>\n",
       "      <td>3.0</td>\n",
       "      <td>NaN</td>\n",
       "      <td>1</td>\n",
       "      <td>1</td>\n",
       "      <td>0</td>\n",
       "      <td>0</td>\n",
       "      <td>0</td>\n",
       "      <td>1</td>\n",
       "      <td>0</td>\n",
       "      <td>94123</td>\n",
       "    </tr>\n",
       "    <tr>\n",
       "      <th>3</th>\n",
       "      <td>Avail now! Bright &amp; Roomy.HwdFlr. Ideal Loc! W...</td>\n",
       "      <td>2900</td>\n",
       "      <td>2</td>\n",
       "      <td>1.0</td>\n",
       "      <td>1100.0</td>\n",
       "      <td>0</td>\n",
       "      <td>0</td>\n",
       "      <td>0</td>\n",
       "      <td>0</td>\n",
       "      <td>0</td>\n",
       "      <td>1</td>\n",
       "      <td>0</td>\n",
       "      <td>94121</td>\n",
       "    </tr>\n",
       "    <tr>\n",
       "      <th>4</th>\n",
       "      <td>Need a house or apt we can hep you pay after i...</td>\n",
       "      <td>1400</td>\n",
       "      <td>2</td>\n",
       "      <td>2.0</td>\n",
       "      <td>1100.0</td>\n",
       "      <td>0</td>\n",
       "      <td>0</td>\n",
       "      <td>0</td>\n",
       "      <td>0</td>\n",
       "      <td>0</td>\n",
       "      <td>0</td>\n",
       "      <td>0</td>\n",
       "      <td>94105</td>\n",
       "    </tr>\n",
       "  </tbody>\n",
       "</table>\n",
       "</div>"
      ],
      "text/plain": [
       "                                               title  rental price  bedrooms  \\\n",
       "0  1/2 Block From GG Park| Remodeled 3BR/2BA W/ P...          4995         3   \n",
       "1  Set Sail for Marina Green 1BR + Den. $95 Depos...          4795         2   \n",
       "2  Marina Penthouse.  Palace VIEWS.  Peak Inside....          7495         3   \n",
       "3  Avail now! Bright & Roomy.HwdFlr. Ideal Loc! W...          2900         2   \n",
       "4  Need a house or apt we can hep you pay after i...          1400         2   \n",
       "\n",
       "   bathrooms  Area (SF)  pets_allowed  laundry in unit  laundry on premise  \\\n",
       "0        2.0        NaN             0                1                   0   \n",
       "1        1.0        NaN             1                1                   0   \n",
       "2        3.0        NaN             1                1                   0   \n",
       "3        1.0     1100.0             0                0                   0   \n",
       "4        2.0     1100.0             0                0                   0   \n",
       "\n",
       "   furnished  parking available  no smoking  wheelchair accessible    Zip  \n",
       "0          0                  1           1                      0  94121  \n",
       "1          0                  0           1                      0  94123  \n",
       "2          0                  0           1                      0  94123  \n",
       "3          0                  0           1                      0  94121  \n",
       "4          0                  0           0                      0  94105  "
      ]
     },
     "execution_count": 14,
     "metadata": {},
     "output_type": "execute_result"
    }
   ],
   "source": [
    "new_df = df[['title','rental price','bedrooms','bathrooms','Area (SF)',\\\n",
    "            'pets_allowed','laundry in unit','laundry on premise','furnished',\\\n",
    "             'parking available','no smoking','wheelchair accessible','Zip']]\n",
    "new_df.head()"
   ]
  },
  {
   "cell_type": "code",
   "execution_count": 15,
   "metadata": {},
   "outputs": [
    {
     "data": {
      "text/html": [
       "<div>\n",
       "<style scoped>\n",
       "    .dataframe tbody tr th:only-of-type {\n",
       "        vertical-align: middle;\n",
       "    }\n",
       "\n",
       "    .dataframe tbody tr th {\n",
       "        vertical-align: top;\n",
       "    }\n",
       "\n",
       "    .dataframe thead th {\n",
       "        text-align: right;\n",
       "    }\n",
       "</style>\n",
       "<table border=\"1\" class=\"dataframe\">\n",
       "  <thead>\n",
       "    <tr style=\"text-align: right;\">\n",
       "      <th></th>\n",
       "      <th>title</th>\n",
       "      <th>rental price</th>\n",
       "      <th>bathrooms</th>\n",
       "      <th>Area (SF)</th>\n",
       "      <th>pets_allowed</th>\n",
       "      <th>laundry in unit</th>\n",
       "      <th>laundry on premise</th>\n",
       "      <th>furnished</th>\n",
       "      <th>parking available</th>\n",
       "      <th>no smoking</th>\n",
       "      <th>wheelchair accessible</th>\n",
       "      <th>Zip</th>\n",
       "    </tr>\n",
       "    <tr>\n",
       "      <th>bedrooms</th>\n",
       "      <th></th>\n",
       "      <th></th>\n",
       "      <th></th>\n",
       "      <th></th>\n",
       "      <th></th>\n",
       "      <th></th>\n",
       "      <th></th>\n",
       "      <th></th>\n",
       "      <th></th>\n",
       "      <th></th>\n",
       "      <th></th>\n",
       "      <th></th>\n",
       "    </tr>\n",
       "  </thead>\n",
       "  <tbody>\n",
       "    <tr>\n",
       "      <th>1</th>\n",
       "      <td>502</td>\n",
       "      <td>502</td>\n",
       "      <td>502</td>\n",
       "      <td>216</td>\n",
       "      <td>502</td>\n",
       "      <td>502</td>\n",
       "      <td>502</td>\n",
       "      <td>502</td>\n",
       "      <td>502</td>\n",
       "      <td>502</td>\n",
       "      <td>502</td>\n",
       "      <td>502</td>\n",
       "    </tr>\n",
       "    <tr>\n",
       "      <th>2</th>\n",
       "      <td>220</td>\n",
       "      <td>220</td>\n",
       "      <td>220</td>\n",
       "      <td>112</td>\n",
       "      <td>220</td>\n",
       "      <td>220</td>\n",
       "      <td>220</td>\n",
       "      <td>220</td>\n",
       "      <td>220</td>\n",
       "      <td>220</td>\n",
       "      <td>220</td>\n",
       "      <td>220</td>\n",
       "    </tr>\n",
       "    <tr>\n",
       "      <th>3</th>\n",
       "      <td>41</td>\n",
       "      <td>41</td>\n",
       "      <td>41</td>\n",
       "      <td>22</td>\n",
       "      <td>41</td>\n",
       "      <td>41</td>\n",
       "      <td>41</td>\n",
       "      <td>41</td>\n",
       "      <td>41</td>\n",
       "      <td>41</td>\n",
       "      <td>41</td>\n",
       "      <td>41</td>\n",
       "    </tr>\n",
       "  </tbody>\n",
       "</table>\n",
       "</div>"
      ],
      "text/plain": [
       "          title  rental price  bathrooms  Area (SF)  pets_allowed  \\\n",
       "bedrooms                                                            \n",
       "1           502           502        502        216           502   \n",
       "2           220           220        220        112           220   \n",
       "3            41            41         41         22            41   \n",
       "\n",
       "          laundry in unit  laundry on premise  furnished  parking available  \\\n",
       "bedrooms                                                                      \n",
       "1                     502                 502        502                502   \n",
       "2                     220                 220        220                220   \n",
       "3                      41                  41         41                 41   \n",
       "\n",
       "          no smoking  wheelchair accessible  Zip  \n",
       "bedrooms                                          \n",
       "1                502                    502  502  \n",
       "2                220                    220  220  \n",
       "3                 41                     41   41  "
      ]
     },
     "execution_count": 15,
     "metadata": {},
     "output_type": "execute_result"
    }
   ],
   "source": [
    "# groupby bedroom to find mean Area (SF)\n",
    "bed_area = new_df.groupby(['bedrooms']).count()\n",
    "bed_area"
   ]
  },
  {
   "cell_type": "code",
   "execution_count": 16,
   "metadata": {},
   "outputs": [
    {
     "data": {
      "text/html": [
       "<div>\n",
       "<style scoped>\n",
       "    .dataframe tbody tr th:only-of-type {\n",
       "        vertical-align: middle;\n",
       "    }\n",
       "\n",
       "    .dataframe tbody tr th {\n",
       "        vertical-align: top;\n",
       "    }\n",
       "\n",
       "    .dataframe thead th {\n",
       "        text-align: right;\n",
       "    }\n",
       "</style>\n",
       "<table border=\"1\" class=\"dataframe\">\n",
       "  <thead>\n",
       "    <tr style=\"text-align: right;\">\n",
       "      <th></th>\n",
       "      <th>rental price</th>\n",
       "      <th>bathrooms</th>\n",
       "      <th>Area (SF)</th>\n",
       "      <th>pets_allowed</th>\n",
       "      <th>laundry in unit</th>\n",
       "      <th>laundry on premise</th>\n",
       "      <th>furnished</th>\n",
       "      <th>parking available</th>\n",
       "      <th>no smoking</th>\n",
       "      <th>wheelchair accessible</th>\n",
       "      <th>Zip</th>\n",
       "    </tr>\n",
       "    <tr>\n",
       "      <th>bedrooms</th>\n",
       "      <th></th>\n",
       "      <th></th>\n",
       "      <th></th>\n",
       "      <th></th>\n",
       "      <th></th>\n",
       "      <th></th>\n",
       "      <th></th>\n",
       "      <th></th>\n",
       "      <th></th>\n",
       "      <th></th>\n",
       "      <th></th>\n",
       "    </tr>\n",
       "  </thead>\n",
       "  <tbody>\n",
       "    <tr>\n",
       "      <th>1</th>\n",
       "      <td>3217.659363</td>\n",
       "      <td>0.996016</td>\n",
       "      <td>719.907407</td>\n",
       "      <td>0.454183</td>\n",
       "      <td>0.332669</td>\n",
       "      <td>0.472112</td>\n",
       "      <td>0.079681</td>\n",
       "      <td>0.362550</td>\n",
       "      <td>0.643426</td>\n",
       "      <td>0.123506</td>\n",
       "      <td>94116.187251</td>\n",
       "    </tr>\n",
       "    <tr>\n",
       "      <th>2</th>\n",
       "      <td>4264.213636</td>\n",
       "      <td>1.434091</td>\n",
       "      <td>1038.089286</td>\n",
       "      <td>0.413636</td>\n",
       "      <td>0.427273</td>\n",
       "      <td>0.372727</td>\n",
       "      <td>0.095455</td>\n",
       "      <td>0.413636</td>\n",
       "      <td>0.586364</td>\n",
       "      <td>0.072727</td>\n",
       "      <td>94117.009091</td>\n",
       "    </tr>\n",
       "    <tr>\n",
       "      <th>3</th>\n",
       "      <td>5432.975610</td>\n",
       "      <td>1.609756</td>\n",
       "      <td>1458.545455</td>\n",
       "      <td>0.292683</td>\n",
       "      <td>0.536585</td>\n",
       "      <td>0.219512</td>\n",
       "      <td>0.121951</td>\n",
       "      <td>0.390244</td>\n",
       "      <td>0.634146</td>\n",
       "      <td>0.048780</td>\n",
       "      <td>94114.317073</td>\n",
       "    </tr>\n",
       "  </tbody>\n",
       "</table>\n",
       "</div>"
      ],
      "text/plain": [
       "          rental price  bathrooms    Area (SF)  pets_allowed  laundry in unit  \\\n",
       "bedrooms                                                                        \n",
       "1          3217.659363   0.996016   719.907407      0.454183         0.332669   \n",
       "2          4264.213636   1.434091  1038.089286      0.413636         0.427273   \n",
       "3          5432.975610   1.609756  1458.545455      0.292683         0.536585   \n",
       "\n",
       "          laundry on premise  furnished  parking available  no smoking  \\\n",
       "bedrooms                                                                 \n",
       "1                   0.472112   0.079681           0.362550    0.643426   \n",
       "2                   0.372727   0.095455           0.413636    0.586364   \n",
       "3                   0.219512   0.121951           0.390244    0.634146   \n",
       "\n",
       "          wheelchair accessible           Zip  \n",
       "bedrooms                                       \n",
       "1                      0.123506  94116.187251  \n",
       "2                      0.072727  94117.009091  \n",
       "3                      0.048780  94114.317073  "
      ]
     },
     "execution_count": 16,
     "metadata": {},
     "output_type": "execute_result"
    }
   ],
   "source": [
    "bed_area = new_df.groupby(['bedrooms']).mean()\n",
    "bed_area"
   ]
  },
  {
   "cell_type": "code",
   "execution_count": 17,
   "metadata": {
    "collapsed": true
   },
   "outputs": [
    {
     "data": {
      "text/plain": [
       "0      2.0\n",
       "1      1.0\n",
       "2      3.0\n",
       "3      1.0\n",
       "4      2.0\n",
       "5      1.0\n",
       "6      2.0\n",
       "7      2.0\n",
       "8      1.0\n",
       "9      2.0\n",
       "10     1.0\n",
       "11     2.0\n",
       "12     1.0\n",
       "13     1.0\n",
       "14     1.0\n",
       "15     1.0\n",
       "16     1.0\n",
       "17     2.0\n",
       "18     1.0\n",
       "19     2.0\n",
       "20     1.0\n",
       "21     2.0\n",
       "22     1.0\n",
       "23     1.0\n",
       "24     1.0\n",
       "25     1.0\n",
       "26     2.0\n",
       "27     1.0\n",
       "28     2.0\n",
       "29     1.0\n",
       "      ... \n",
       "733    1.0\n",
       "734    2.5\n",
       "735    2.0\n",
       "736    2.0\n",
       "737    2.0\n",
       "738    2.0\n",
       "739    1.0\n",
       "740    2.0\n",
       "741    1.0\n",
       "742    2.0\n",
       "743    1.0\n",
       "744    2.0\n",
       "745    1.0\n",
       "746    2.0\n",
       "747    1.0\n",
       "748    1.0\n",
       "749    1.5\n",
       "750    2.0\n",
       "751    1.0\n",
       "752    1.0\n",
       "753    1.0\n",
       "754    2.0\n",
       "755    2.0\n",
       "756    2.0\n",
       "757    1.0\n",
       "758    1.0\n",
       "759    1.0\n",
       "760    2.0\n",
       "761    1.0\n",
       "762    2.0\n",
       "Name: bathrooms, Length: 763, dtype: float64"
      ]
     },
     "execution_count": 17,
     "metadata": {},
     "output_type": "execute_result"
    }
   ],
   "source": [
    "# replace listings with 0 bathroom to 1 bathroom\n",
    "new_df.bathrooms.replace(0.0,1.0,inplace=True)\n",
    "new_df.bathrooms"
   ]
  },
  {
   "cell_type": "markdown",
   "metadata": {},
   "source": [
    "In the below sections, groupby bedrooms and bathrooms were used to find avgerage area for every combination of bedroom & bathrooms. These averages will be used to append missing information, as there are many listing without area."
   ]
  },
  {
   "cell_type": "code",
   "execution_count": 18,
   "metadata": {
    "collapsed": true
   },
   "outputs": [
    {
     "data": {
      "text/html": [
       "<div>\n",
       "<style scoped>\n",
       "    .dataframe tbody tr th:only-of-type {\n",
       "        vertical-align: middle;\n",
       "    }\n",
       "\n",
       "    .dataframe tbody tr th {\n",
       "        vertical-align: top;\n",
       "    }\n",
       "\n",
       "    .dataframe thead th {\n",
       "        text-align: right;\n",
       "    }\n",
       "</style>\n",
       "<table border=\"1\" class=\"dataframe\">\n",
       "  <thead>\n",
       "    <tr style=\"text-align: right;\">\n",
       "      <th></th>\n",
       "      <th></th>\n",
       "      <th>title</th>\n",
       "      <th>rental price</th>\n",
       "      <th>Area (SF)</th>\n",
       "      <th>pets_allowed</th>\n",
       "      <th>laundry in unit</th>\n",
       "      <th>laundry on premise</th>\n",
       "      <th>furnished</th>\n",
       "      <th>parking available</th>\n",
       "      <th>no smoking</th>\n",
       "      <th>wheelchair accessible</th>\n",
       "      <th>Zip</th>\n",
       "    </tr>\n",
       "    <tr>\n",
       "      <th>bedrooms</th>\n",
       "      <th>bathrooms</th>\n",
       "      <th></th>\n",
       "      <th></th>\n",
       "      <th></th>\n",
       "      <th></th>\n",
       "      <th></th>\n",
       "      <th></th>\n",
       "      <th></th>\n",
       "      <th></th>\n",
       "      <th></th>\n",
       "      <th></th>\n",
       "      <th></th>\n",
       "    </tr>\n",
       "  </thead>\n",
       "  <tbody>\n",
       "    <tr>\n",
       "      <th rowspan=\"3\" valign=\"top\">1</th>\n",
       "      <th>1.0</th>\n",
       "      <td>493</td>\n",
       "      <td>493</td>\n",
       "      <td>209</td>\n",
       "      <td>493</td>\n",
       "      <td>493</td>\n",
       "      <td>493</td>\n",
       "      <td>493</td>\n",
       "      <td>493</td>\n",
       "      <td>493</td>\n",
       "      <td>493</td>\n",
       "      <td>493</td>\n",
       "    </tr>\n",
       "    <tr>\n",
       "      <th>1.5</th>\n",
       "      <td>6</td>\n",
       "      <td>6</td>\n",
       "      <td>4</td>\n",
       "      <td>6</td>\n",
       "      <td>6</td>\n",
       "      <td>6</td>\n",
       "      <td>6</td>\n",
       "      <td>6</td>\n",
       "      <td>6</td>\n",
       "      <td>6</td>\n",
       "      <td>6</td>\n",
       "    </tr>\n",
       "    <tr>\n",
       "      <th>2.0</th>\n",
       "      <td>3</td>\n",
       "      <td>3</td>\n",
       "      <td>3</td>\n",
       "      <td>3</td>\n",
       "      <td>3</td>\n",
       "      <td>3</td>\n",
       "      <td>3</td>\n",
       "      <td>3</td>\n",
       "      <td>3</td>\n",
       "      <td>3</td>\n",
       "      <td>3</td>\n",
       "    </tr>\n",
       "    <tr>\n",
       "      <th rowspan=\"4\" valign=\"top\">2</th>\n",
       "      <th>1.0</th>\n",
       "      <td>121</td>\n",
       "      <td>121</td>\n",
       "      <td>49</td>\n",
       "      <td>121</td>\n",
       "      <td>121</td>\n",
       "      <td>121</td>\n",
       "      <td>121</td>\n",
       "      <td>121</td>\n",
       "      <td>121</td>\n",
       "      <td>121</td>\n",
       "      <td>121</td>\n",
       "    </tr>\n",
       "    <tr>\n",
       "      <th>1.5</th>\n",
       "      <td>8</td>\n",
       "      <td>8</td>\n",
       "      <td>4</td>\n",
       "      <td>8</td>\n",
       "      <td>8</td>\n",
       "      <td>8</td>\n",
       "      <td>8</td>\n",
       "      <td>8</td>\n",
       "      <td>8</td>\n",
       "      <td>8</td>\n",
       "      <td>8</td>\n",
       "    </tr>\n",
       "    <tr>\n",
       "      <th>2.0</th>\n",
       "      <td>86</td>\n",
       "      <td>86</td>\n",
       "      <td>54</td>\n",
       "      <td>86</td>\n",
       "      <td>86</td>\n",
       "      <td>86</td>\n",
       "      <td>86</td>\n",
       "      <td>86</td>\n",
       "      <td>86</td>\n",
       "      <td>86</td>\n",
       "      <td>86</td>\n",
       "    </tr>\n",
       "    <tr>\n",
       "      <th>2.5</th>\n",
       "      <td>5</td>\n",
       "      <td>5</td>\n",
       "      <td>5</td>\n",
       "      <td>5</td>\n",
       "      <td>5</td>\n",
       "      <td>5</td>\n",
       "      <td>5</td>\n",
       "      <td>5</td>\n",
       "      <td>5</td>\n",
       "      <td>5</td>\n",
       "      <td>5</td>\n",
       "    </tr>\n",
       "    <tr>\n",
       "      <th rowspan=\"5\" valign=\"top\">3</th>\n",
       "      <th>1.0</th>\n",
       "      <td>16</td>\n",
       "      <td>16</td>\n",
       "      <td>9</td>\n",
       "      <td>16</td>\n",
       "      <td>16</td>\n",
       "      <td>16</td>\n",
       "      <td>16</td>\n",
       "      <td>16</td>\n",
       "      <td>16</td>\n",
       "      <td>16</td>\n",
       "      <td>16</td>\n",
       "    </tr>\n",
       "    <tr>\n",
       "      <th>1.5</th>\n",
       "      <td>4</td>\n",
       "      <td>4</td>\n",
       "      <td>0</td>\n",
       "      <td>4</td>\n",
       "      <td>4</td>\n",
       "      <td>4</td>\n",
       "      <td>4</td>\n",
       "      <td>4</td>\n",
       "      <td>4</td>\n",
       "      <td>4</td>\n",
       "      <td>4</td>\n",
       "    </tr>\n",
       "    <tr>\n",
       "      <th>2.0</th>\n",
       "      <td>17</td>\n",
       "      <td>17</td>\n",
       "      <td>10</td>\n",
       "      <td>17</td>\n",
       "      <td>17</td>\n",
       "      <td>17</td>\n",
       "      <td>17</td>\n",
       "      <td>17</td>\n",
       "      <td>17</td>\n",
       "      <td>17</td>\n",
       "      <td>17</td>\n",
       "    </tr>\n",
       "    <tr>\n",
       "      <th>2.5</th>\n",
       "      <td>2</td>\n",
       "      <td>2</td>\n",
       "      <td>2</td>\n",
       "      <td>2</td>\n",
       "      <td>2</td>\n",
       "      <td>2</td>\n",
       "      <td>2</td>\n",
       "      <td>2</td>\n",
       "      <td>2</td>\n",
       "      <td>2</td>\n",
       "      <td>2</td>\n",
       "    </tr>\n",
       "    <tr>\n",
       "      <th>3.0</th>\n",
       "      <td>2</td>\n",
       "      <td>2</td>\n",
       "      <td>1</td>\n",
       "      <td>2</td>\n",
       "      <td>2</td>\n",
       "      <td>2</td>\n",
       "      <td>2</td>\n",
       "      <td>2</td>\n",
       "      <td>2</td>\n",
       "      <td>2</td>\n",
       "      <td>2</td>\n",
       "    </tr>\n",
       "  </tbody>\n",
       "</table>\n",
       "</div>"
      ],
      "text/plain": [
       "                    title  rental price  Area (SF)  pets_allowed  \\\n",
       "bedrooms bathrooms                                                 \n",
       "1        1.0          493           493        209           493   \n",
       "         1.5            6             6          4             6   \n",
       "         2.0            3             3          3             3   \n",
       "2        1.0          121           121         49           121   \n",
       "         1.5            8             8          4             8   \n",
       "         2.0           86            86         54            86   \n",
       "         2.5            5             5          5             5   \n",
       "3        1.0           16            16          9            16   \n",
       "         1.5            4             4          0             4   \n",
       "         2.0           17            17         10            17   \n",
       "         2.5            2             2          2             2   \n",
       "         3.0            2             2          1             2   \n",
       "\n",
       "                    laundry in unit  laundry on premise  furnished  \\\n",
       "bedrooms bathrooms                                                   \n",
       "1        1.0                    493                 493        493   \n",
       "         1.5                      6                   6          6   \n",
       "         2.0                      3                   3          3   \n",
       "2        1.0                    121                 121        121   \n",
       "         1.5                      8                   8          8   \n",
       "         2.0                     86                  86         86   \n",
       "         2.5                      5                   5          5   \n",
       "3        1.0                     16                  16         16   \n",
       "         1.5                      4                   4          4   \n",
       "         2.0                     17                  17         17   \n",
       "         2.5                      2                   2          2   \n",
       "         3.0                      2                   2          2   \n",
       "\n",
       "                    parking available  no smoking  wheelchair accessible  Zip  \n",
       "bedrooms bathrooms                                                             \n",
       "1        1.0                      493         493                    493  493  \n",
       "         1.5                        6           6                      6    6  \n",
       "         2.0                        3           3                      3    3  \n",
       "2        1.0                      121         121                    121  121  \n",
       "         1.5                        8           8                      8    8  \n",
       "         2.0                       86          86                     86   86  \n",
       "         2.5                        5           5                      5    5  \n",
       "3        1.0                       16          16                     16   16  \n",
       "         1.5                        4           4                      4    4  \n",
       "         2.0                       17          17                     17   17  \n",
       "         2.5                        2           2                      2    2  \n",
       "         3.0                        2           2                      2    2  "
      ]
     },
     "execution_count": 18,
     "metadata": {},
     "output_type": "execute_result"
    }
   ],
   "source": [
    "# groupby bedroom & bathroom to find mean Area (SF)\n",
    "bed_bath_area = new_df.groupby(['bedrooms','bathrooms']).count()\n",
    "bed_bath_area"
   ]
  },
  {
   "cell_type": "code",
   "execution_count": 19,
   "metadata": {
    "collapsed": true
   },
   "outputs": [
    {
     "data": {
      "text/html": [
       "<div>\n",
       "<style scoped>\n",
       "    .dataframe tbody tr th:only-of-type {\n",
       "        vertical-align: middle;\n",
       "    }\n",
       "\n",
       "    .dataframe tbody tr th {\n",
       "        vertical-align: top;\n",
       "    }\n",
       "\n",
       "    .dataframe thead th {\n",
       "        text-align: right;\n",
       "    }\n",
       "</style>\n",
       "<table border=\"1\" class=\"dataframe\">\n",
       "  <thead>\n",
       "    <tr style=\"text-align: right;\">\n",
       "      <th></th>\n",
       "      <th></th>\n",
       "      <th>rental price</th>\n",
       "      <th>Area (SF)</th>\n",
       "      <th>pets_allowed</th>\n",
       "      <th>laundry in unit</th>\n",
       "      <th>laundry on premise</th>\n",
       "      <th>furnished</th>\n",
       "      <th>parking available</th>\n",
       "      <th>no smoking</th>\n",
       "      <th>wheelchair accessible</th>\n",
       "      <th>Zip</th>\n",
       "    </tr>\n",
       "    <tr>\n",
       "      <th>bedrooms</th>\n",
       "      <th>bathrooms</th>\n",
       "      <th></th>\n",
       "      <th></th>\n",
       "      <th></th>\n",
       "      <th></th>\n",
       "      <th></th>\n",
       "      <th></th>\n",
       "      <th></th>\n",
       "      <th></th>\n",
       "      <th></th>\n",
       "      <th></th>\n",
       "    </tr>\n",
       "  </thead>\n",
       "  <tbody>\n",
       "    <tr>\n",
       "      <th rowspan=\"3\" valign=\"top\">1</th>\n",
       "      <th>1.0</th>\n",
       "      <td>3213.803245</td>\n",
       "      <td>717.660287</td>\n",
       "      <td>0.452333</td>\n",
       "      <td>0.322515</td>\n",
       "      <td>0.480730</td>\n",
       "      <td>0.075051</td>\n",
       "      <td>0.354970</td>\n",
       "      <td>0.647059</td>\n",
       "      <td>0.121704</td>\n",
       "      <td>94116.166329</td>\n",
       "    </tr>\n",
       "    <tr>\n",
       "      <th>1.5</th>\n",
       "      <td>3526.666667</td>\n",
       "      <td>730.750000</td>\n",
       "      <td>0.666667</td>\n",
       "      <td>1.000000</td>\n",
       "      <td>0.000000</td>\n",
       "      <td>0.333333</td>\n",
       "      <td>0.833333</td>\n",
       "      <td>0.666667</td>\n",
       "      <td>0.333333</td>\n",
       "      <td>94116.000000</td>\n",
       "    </tr>\n",
       "    <tr>\n",
       "      <th>2.0</th>\n",
       "      <td>3233.333333</td>\n",
       "      <td>862.000000</td>\n",
       "      <td>0.333333</td>\n",
       "      <td>0.666667</td>\n",
       "      <td>0.000000</td>\n",
       "      <td>0.333333</td>\n",
       "      <td>0.666667</td>\n",
       "      <td>0.000000</td>\n",
       "      <td>0.000000</td>\n",
       "      <td>94120.000000</td>\n",
       "    </tr>\n",
       "    <tr>\n",
       "      <th rowspan=\"4\" valign=\"top\">2</th>\n",
       "      <th>1.0</th>\n",
       "      <td>3741.842975</td>\n",
       "      <td>915.979592</td>\n",
       "      <td>0.322314</td>\n",
       "      <td>0.223140</td>\n",
       "      <td>0.504132</td>\n",
       "      <td>0.066116</td>\n",
       "      <td>0.239669</td>\n",
       "      <td>0.661157</td>\n",
       "      <td>0.033058</td>\n",
       "      <td>94116.793388</td>\n",
       "    </tr>\n",
       "    <tr>\n",
       "      <th>1.5</th>\n",
       "      <td>4673.625000</td>\n",
       "      <td>981.250000</td>\n",
       "      <td>0.000000</td>\n",
       "      <td>0.375000</td>\n",
       "      <td>0.625000</td>\n",
       "      <td>0.125000</td>\n",
       "      <td>0.625000</td>\n",
       "      <td>0.500000</td>\n",
       "      <td>0.000000</td>\n",
       "      <td>94121.500000</td>\n",
       "    </tr>\n",
       "    <tr>\n",
       "      <th>2.0</th>\n",
       "      <td>4795.418605</td>\n",
       "      <td>1110.351852</td>\n",
       "      <td>0.558140</td>\n",
       "      <td>0.686047</td>\n",
       "      <td>0.186047</td>\n",
       "      <td>0.139535</td>\n",
       "      <td>0.604651</td>\n",
       "      <td>0.476744</td>\n",
       "      <td>0.116279</td>\n",
       "      <td>94117.674419</td>\n",
       "    </tr>\n",
       "    <tr>\n",
       "      <th>2.5</th>\n",
       "      <td>7113.800000</td>\n",
       "      <td>1499.800000</td>\n",
       "      <td>0.800000</td>\n",
       "      <td>1.000000</td>\n",
       "      <td>0.000000</td>\n",
       "      <td>0.000000</td>\n",
       "      <td>1.000000</td>\n",
       "      <td>0.800000</td>\n",
       "      <td>0.400000</td>\n",
       "      <td>94103.600000</td>\n",
       "    </tr>\n",
       "    <tr>\n",
       "      <th rowspan=\"5\" valign=\"top\">3</th>\n",
       "      <th>1.0</th>\n",
       "      <td>4690.000000</td>\n",
       "      <td>1158.555556</td>\n",
       "      <td>0.250000</td>\n",
       "      <td>0.312500</td>\n",
       "      <td>0.375000</td>\n",
       "      <td>0.125000</td>\n",
       "      <td>0.000000</td>\n",
       "      <td>0.625000</td>\n",
       "      <td>0.000000</td>\n",
       "      <td>94111.750000</td>\n",
       "    </tr>\n",
       "    <tr>\n",
       "      <th>1.5</th>\n",
       "      <td>4645.000000</td>\n",
       "      <td>NaN</td>\n",
       "      <td>0.000000</td>\n",
       "      <td>0.250000</td>\n",
       "      <td>0.000000</td>\n",
       "      <td>0.000000</td>\n",
       "      <td>0.000000</td>\n",
       "      <td>0.500000</td>\n",
       "      <td>0.000000</td>\n",
       "      <td>94113.750000</td>\n",
       "    </tr>\n",
       "    <tr>\n",
       "      <th>2.0</th>\n",
       "      <td>5969.823529</td>\n",
       "      <td>1579.300000</td>\n",
       "      <td>0.352941</td>\n",
       "      <td>0.764706</td>\n",
       "      <td>0.117647</td>\n",
       "      <td>0.176471</td>\n",
       "      <td>0.764706</td>\n",
       "      <td>0.647059</td>\n",
       "      <td>0.058824</td>\n",
       "      <td>94116.764706</td>\n",
       "    </tr>\n",
       "    <tr>\n",
       "      <th>2.5</th>\n",
       "      <td>7025.000000</td>\n",
       "      <td>2134.000000</td>\n",
       "      <td>0.500000</td>\n",
       "      <td>1.000000</td>\n",
       "      <td>0.000000</td>\n",
       "      <td>0.000000</td>\n",
       "      <td>1.000000</td>\n",
       "      <td>1.000000</td>\n",
       "      <td>0.500000</td>\n",
       "      <td>94115.500000</td>\n",
       "    </tr>\n",
       "    <tr>\n",
       "      <th>3.0</th>\n",
       "      <td>6797.500000</td>\n",
       "      <td>1600.000000</td>\n",
       "      <td>0.500000</td>\n",
       "      <td>0.500000</td>\n",
       "      <td>0.500000</td>\n",
       "      <td>0.000000</td>\n",
       "      <td>0.500000</td>\n",
       "      <td>0.500000</td>\n",
       "      <td>0.000000</td>\n",
       "      <td>94114.000000</td>\n",
       "    </tr>\n",
       "  </tbody>\n",
       "</table>\n",
       "</div>"
      ],
      "text/plain": [
       "                    rental price    Area (SF)  pets_allowed  laundry in unit  \\\n",
       "bedrooms bathrooms                                                             \n",
       "1        1.0         3213.803245   717.660287      0.452333         0.322515   \n",
       "         1.5         3526.666667   730.750000      0.666667         1.000000   \n",
       "         2.0         3233.333333   862.000000      0.333333         0.666667   \n",
       "2        1.0         3741.842975   915.979592      0.322314         0.223140   \n",
       "         1.5         4673.625000   981.250000      0.000000         0.375000   \n",
       "         2.0         4795.418605  1110.351852      0.558140         0.686047   \n",
       "         2.5         7113.800000  1499.800000      0.800000         1.000000   \n",
       "3        1.0         4690.000000  1158.555556      0.250000         0.312500   \n",
       "         1.5         4645.000000          NaN      0.000000         0.250000   \n",
       "         2.0         5969.823529  1579.300000      0.352941         0.764706   \n",
       "         2.5         7025.000000  2134.000000      0.500000         1.000000   \n",
       "         3.0         6797.500000  1600.000000      0.500000         0.500000   \n",
       "\n",
       "                    laundry on premise  furnished  parking available  \\\n",
       "bedrooms bathrooms                                                     \n",
       "1        1.0                  0.480730   0.075051           0.354970   \n",
       "         1.5                  0.000000   0.333333           0.833333   \n",
       "         2.0                  0.000000   0.333333           0.666667   \n",
       "2        1.0                  0.504132   0.066116           0.239669   \n",
       "         1.5                  0.625000   0.125000           0.625000   \n",
       "         2.0                  0.186047   0.139535           0.604651   \n",
       "         2.5                  0.000000   0.000000           1.000000   \n",
       "3        1.0                  0.375000   0.125000           0.000000   \n",
       "         1.5                  0.000000   0.000000           0.000000   \n",
       "         2.0                  0.117647   0.176471           0.764706   \n",
       "         2.5                  0.000000   0.000000           1.000000   \n",
       "         3.0                  0.500000   0.000000           0.500000   \n",
       "\n",
       "                    no smoking  wheelchair accessible           Zip  \n",
       "bedrooms bathrooms                                                   \n",
       "1        1.0          0.647059               0.121704  94116.166329  \n",
       "         1.5          0.666667               0.333333  94116.000000  \n",
       "         2.0          0.000000               0.000000  94120.000000  \n",
       "2        1.0          0.661157               0.033058  94116.793388  \n",
       "         1.5          0.500000               0.000000  94121.500000  \n",
       "         2.0          0.476744               0.116279  94117.674419  \n",
       "         2.5          0.800000               0.400000  94103.600000  \n",
       "3        1.0          0.625000               0.000000  94111.750000  \n",
       "         1.5          0.500000               0.000000  94113.750000  \n",
       "         2.0          0.647059               0.058824  94116.764706  \n",
       "         2.5          1.000000               0.500000  94115.500000  \n",
       "         3.0          0.500000               0.000000  94114.000000  "
      ]
     },
     "execution_count": 19,
     "metadata": {},
     "output_type": "execute_result"
    }
   ],
   "source": [
    "# groupby bedroom & bathroom to find mean Area (SF)\n",
    "bed_bath_area = new_df.groupby(['bedrooms','bathrooms']).mean()\n",
    "bed_bath_area"
   ]
  },
  {
   "cell_type": "markdown",
   "metadata": {},
   "source": [
    "list of average Area (SF) of # of bed & # of bath combos, starts at 1 ba, .5 increments, \n",
    "i.e. OneBed_Xbath[0] is representative of avg area for 1bd1ba apartments   \n",
    "OneBed_XBath = [718,731,862]  \n",
    "TwoBed_XBath = [916,981,1110,1500]  \n",
    "ThreeBed_XBath = [1159,1369,1579,2134,1600]   \n",
    "note that for 3bd1.5ba, there were no values, therfore used avg of 3bd1ba and 3bd2ba"
   ]
  },
  {
   "cell_type": "code",
   "execution_count": 20,
   "metadata": {
    "collapsed": true
   },
   "outputs": [
    {
     "data": {
      "text/plain": [
       "count     350.000000\n",
       "mean      868.154286\n",
       "std       308.731176\n",
       "min       110.000000\n",
       "25%       691.000000\n",
       "50%       800.000000\n",
       "75%      1000.000000\n",
       "max      2450.000000\n",
       "Name: Area (SF), dtype: float64"
      ]
     },
     "execution_count": 20,
     "metadata": {},
     "output_type": "execute_result"
    }
   ],
   "source": [
    "new_df['Area (SF)'].describe()"
   ]
  },
  {
   "cell_type": "code",
   "execution_count": 21,
   "metadata": {},
   "outputs": [],
   "source": [
    "# Fill NaNs in Area column based on mean of groupby([ \"bedrooms\", \"bathrooms\"])\n",
    "new_df['Area (SF)'] = new_df.groupby(['bedrooms','bathrooms'],sort=False)['Area (SF)'].apply(lambda x:x.fillna(x.mean()))"
   ]
  },
  {
   "cell_type": "code",
   "execution_count": 22,
   "metadata": {},
   "outputs": [
    {
     "data": {
      "text/plain": [
       "4"
      ]
     },
     "execution_count": 22,
     "metadata": {},
     "output_type": "execute_result"
    }
   ],
   "source": [
    "# Check to see if there were any NaN leftover, surely there was\n",
    "new_df['Area (SF)'].isna().sum()"
   ]
  },
  {
   "cell_type": "code",
   "execution_count": 23,
   "metadata": {},
   "outputs": [
    {
     "data": {
      "text/html": [
       "<div>\n",
       "<style scoped>\n",
       "    .dataframe tbody tr th:only-of-type {\n",
       "        vertical-align: middle;\n",
       "    }\n",
       "\n",
       "    .dataframe tbody tr th {\n",
       "        vertical-align: top;\n",
       "    }\n",
       "\n",
       "    .dataframe thead th {\n",
       "        text-align: right;\n",
       "    }\n",
       "</style>\n",
       "<table border=\"1\" class=\"dataframe\">\n",
       "  <thead>\n",
       "    <tr style=\"text-align: right;\">\n",
       "      <th></th>\n",
       "      <th>title</th>\n",
       "      <th>rental price</th>\n",
       "      <th>bedrooms</th>\n",
       "      <th>bathrooms</th>\n",
       "      <th>Area (SF)</th>\n",
       "      <th>pets_allowed</th>\n",
       "      <th>laundry in unit</th>\n",
       "      <th>laundry on premise</th>\n",
       "      <th>furnished</th>\n",
       "      <th>parking available</th>\n",
       "      <th>no smoking</th>\n",
       "      <th>wheelchair accessible</th>\n",
       "      <th>Zip</th>\n",
       "    </tr>\n",
       "  </thead>\n",
       "  <tbody>\n",
       "    <tr>\n",
       "      <th>49</th>\n",
       "      <td>Renovated 3 Bed / 1.5 Bath with New Carpet/Pai...</td>\n",
       "      <td>4435</td>\n",
       "      <td>3</td>\n",
       "      <td>1.5</td>\n",
       "      <td>NaN</td>\n",
       "      <td>0</td>\n",
       "      <td>0</td>\n",
       "      <td>0</td>\n",
       "      <td>0</td>\n",
       "      <td>0</td>\n",
       "      <td>0</td>\n",
       "      <td>0</td>\n",
       "      <td>94108</td>\n",
       "    </tr>\n",
       "    <tr>\n",
       "      <th>107</th>\n",
       "      <td>Fillmore St. Apartment for Immediate Occupancy</td>\n",
       "      <td>4250</td>\n",
       "      <td>3</td>\n",
       "      <td>1.5</td>\n",
       "      <td>NaN</td>\n",
       "      <td>0</td>\n",
       "      <td>0</td>\n",
       "      <td>0</td>\n",
       "      <td>0</td>\n",
       "      <td>0</td>\n",
       "      <td>1</td>\n",
       "      <td>0</td>\n",
       "      <td>94123</td>\n",
       "    </tr>\n",
       "    <tr>\n",
       "      <th>618</th>\n",
       "      <td>OPEN 10/5 from 2:30 to 3:00pm::Charming and Sp...</td>\n",
       "      <td>5295</td>\n",
       "      <td>3</td>\n",
       "      <td>1.5</td>\n",
       "      <td>NaN</td>\n",
       "      <td>0</td>\n",
       "      <td>1</td>\n",
       "      <td>0</td>\n",
       "      <td>0</td>\n",
       "      <td>0</td>\n",
       "      <td>0</td>\n",
       "      <td>0</td>\n",
       "      <td>94115</td>\n",
       "    </tr>\n",
       "    <tr>\n",
       "      <th>623</th>\n",
       "      <td>Top floor Russian Hill - awesome location &amp; sp...</td>\n",
       "      <td>4600</td>\n",
       "      <td>3</td>\n",
       "      <td>1.5</td>\n",
       "      <td>NaN</td>\n",
       "      <td>0</td>\n",
       "      <td>0</td>\n",
       "      <td>0</td>\n",
       "      <td>0</td>\n",
       "      <td>0</td>\n",
       "      <td>1</td>\n",
       "      <td>0</td>\n",
       "      <td>94109</td>\n",
       "    </tr>\n",
       "  </tbody>\n",
       "</table>\n",
       "</div>"
      ],
      "text/plain": [
       "                                                 title  rental price  \\\n",
       "49   Renovated 3 Bed / 1.5 Bath with New Carpet/Pai...          4435   \n",
       "107     Fillmore St. Apartment for Immediate Occupancy          4250   \n",
       "618  OPEN 10/5 from 2:30 to 3:00pm::Charming and Sp...          5295   \n",
       "623  Top floor Russian Hill - awesome location & sp...          4600   \n",
       "\n",
       "     bedrooms  bathrooms  Area (SF)  pets_allowed  laundry in unit  \\\n",
       "49          3        1.5        NaN             0                0   \n",
       "107         3        1.5        NaN             0                0   \n",
       "618         3        1.5        NaN             0                1   \n",
       "623         3        1.5        NaN             0                0   \n",
       "\n",
       "     laundry on premise  furnished  parking available  no smoking  \\\n",
       "49                    0          0                  0           0   \n",
       "107                   0          0                  0           1   \n",
       "618                   0          0                  0           0   \n",
       "623                   0          0                  0           1   \n",
       "\n",
       "     wheelchair accessible    Zip  \n",
       "49                       0  94108  \n",
       "107                      0  94123  \n",
       "618                      0  94115  \n",
       "623                      0  94109  "
      ]
     },
     "execution_count": 23,
     "metadata": {},
     "output_type": "execute_result"
    }
   ],
   "source": [
    "new_df[new_df['Area (SF)'].isna()]"
   ]
  },
  {
   "cell_type": "code",
   "execution_count": 24,
   "metadata": {},
   "outputs": [],
   "source": [
    "# All of the NaN happends to be for 3bed1.5bath, therefore I replaced those NaNs with the avg. area between 3bd1ba & 3bd2ba\n",
    "new_df['Area (SF)'].fillna(1369,inplace=True)"
   ]
  },
  {
   "cell_type": "code",
   "execution_count": 25,
   "metadata": {
    "collapsed": true
   },
   "outputs": [
    {
     "data": {
      "text/plain": [
       "count     763.000000\n",
       "mean      839.814941\n",
       "std       248.048600\n",
       "min       110.000000\n",
       "25%       717.660287\n",
       "50%       717.660287\n",
       "75%       915.979592\n",
       "max      2450.000000\n",
       "Name: Area (SF), dtype: float64"
      ]
     },
     "execution_count": 25,
     "metadata": {},
     "output_type": "execute_result"
    }
   ],
   "source": [
    "new_df['Area (SF)'].describe()"
   ]
  },
  {
   "cell_type": "code",
   "execution_count": 26,
   "metadata": {
    "collapsed": true
   },
   "outputs": [
    {
     "data": {
      "text/html": [
       "<div>\n",
       "<style scoped>\n",
       "    .dataframe tbody tr th:only-of-type {\n",
       "        vertical-align: middle;\n",
       "    }\n",
       "\n",
       "    .dataframe tbody tr th {\n",
       "        vertical-align: top;\n",
       "    }\n",
       "\n",
       "    .dataframe thead th {\n",
       "        text-align: right;\n",
       "    }\n",
       "</style>\n",
       "<table border=\"1\" class=\"dataframe\">\n",
       "  <thead>\n",
       "    <tr style=\"text-align: right;\">\n",
       "      <th></th>\n",
       "      <th></th>\n",
       "      <th>rental price</th>\n",
       "      <th>Area (SF)</th>\n",
       "      <th>pets_allowed</th>\n",
       "      <th>laundry in unit</th>\n",
       "      <th>laundry on premise</th>\n",
       "      <th>furnished</th>\n",
       "      <th>parking available</th>\n",
       "      <th>no smoking</th>\n",
       "      <th>wheelchair accessible</th>\n",
       "      <th>Zip</th>\n",
       "    </tr>\n",
       "    <tr>\n",
       "      <th>bedrooms</th>\n",
       "      <th>bathrooms</th>\n",
       "      <th></th>\n",
       "      <th></th>\n",
       "      <th></th>\n",
       "      <th></th>\n",
       "      <th></th>\n",
       "      <th></th>\n",
       "      <th></th>\n",
       "      <th></th>\n",
       "      <th></th>\n",
       "      <th></th>\n",
       "    </tr>\n",
       "  </thead>\n",
       "  <tbody>\n",
       "    <tr>\n",
       "      <th rowspan=\"3\" valign=\"top\">1</th>\n",
       "      <th>1.0</th>\n",
       "      <td>3213.803245</td>\n",
       "      <td>717.660287</td>\n",
       "      <td>0.452333</td>\n",
       "      <td>0.322515</td>\n",
       "      <td>0.480730</td>\n",
       "      <td>0.075051</td>\n",
       "      <td>0.354970</td>\n",
       "      <td>0.647059</td>\n",
       "      <td>0.121704</td>\n",
       "      <td>94116.166329</td>\n",
       "    </tr>\n",
       "    <tr>\n",
       "      <th>1.5</th>\n",
       "      <td>3526.666667</td>\n",
       "      <td>730.750000</td>\n",
       "      <td>0.666667</td>\n",
       "      <td>1.000000</td>\n",
       "      <td>0.000000</td>\n",
       "      <td>0.333333</td>\n",
       "      <td>0.833333</td>\n",
       "      <td>0.666667</td>\n",
       "      <td>0.333333</td>\n",
       "      <td>94116.000000</td>\n",
       "    </tr>\n",
       "    <tr>\n",
       "      <th>2.0</th>\n",
       "      <td>3233.333333</td>\n",
       "      <td>862.000000</td>\n",
       "      <td>0.333333</td>\n",
       "      <td>0.666667</td>\n",
       "      <td>0.000000</td>\n",
       "      <td>0.333333</td>\n",
       "      <td>0.666667</td>\n",
       "      <td>0.000000</td>\n",
       "      <td>0.000000</td>\n",
       "      <td>94120.000000</td>\n",
       "    </tr>\n",
       "    <tr>\n",
       "      <th rowspan=\"4\" valign=\"top\">2</th>\n",
       "      <th>1.0</th>\n",
       "      <td>3741.842975</td>\n",
       "      <td>915.979592</td>\n",
       "      <td>0.322314</td>\n",
       "      <td>0.223140</td>\n",
       "      <td>0.504132</td>\n",
       "      <td>0.066116</td>\n",
       "      <td>0.239669</td>\n",
       "      <td>0.661157</td>\n",
       "      <td>0.033058</td>\n",
       "      <td>94116.793388</td>\n",
       "    </tr>\n",
       "    <tr>\n",
       "      <th>1.5</th>\n",
       "      <td>4673.625000</td>\n",
       "      <td>981.250000</td>\n",
       "      <td>0.000000</td>\n",
       "      <td>0.375000</td>\n",
       "      <td>0.625000</td>\n",
       "      <td>0.125000</td>\n",
       "      <td>0.625000</td>\n",
       "      <td>0.500000</td>\n",
       "      <td>0.000000</td>\n",
       "      <td>94121.500000</td>\n",
       "    </tr>\n",
       "    <tr>\n",
       "      <th>2.0</th>\n",
       "      <td>4795.418605</td>\n",
       "      <td>1110.351852</td>\n",
       "      <td>0.558140</td>\n",
       "      <td>0.686047</td>\n",
       "      <td>0.186047</td>\n",
       "      <td>0.139535</td>\n",
       "      <td>0.604651</td>\n",
       "      <td>0.476744</td>\n",
       "      <td>0.116279</td>\n",
       "      <td>94117.674419</td>\n",
       "    </tr>\n",
       "    <tr>\n",
       "      <th>2.5</th>\n",
       "      <td>7113.800000</td>\n",
       "      <td>1499.800000</td>\n",
       "      <td>0.800000</td>\n",
       "      <td>1.000000</td>\n",
       "      <td>0.000000</td>\n",
       "      <td>0.000000</td>\n",
       "      <td>1.000000</td>\n",
       "      <td>0.800000</td>\n",
       "      <td>0.400000</td>\n",
       "      <td>94103.600000</td>\n",
       "    </tr>\n",
       "    <tr>\n",
       "      <th rowspan=\"5\" valign=\"top\">3</th>\n",
       "      <th>1.0</th>\n",
       "      <td>4690.000000</td>\n",
       "      <td>1158.555556</td>\n",
       "      <td>0.250000</td>\n",
       "      <td>0.312500</td>\n",
       "      <td>0.375000</td>\n",
       "      <td>0.125000</td>\n",
       "      <td>0.000000</td>\n",
       "      <td>0.625000</td>\n",
       "      <td>0.000000</td>\n",
       "      <td>94111.750000</td>\n",
       "    </tr>\n",
       "    <tr>\n",
       "      <th>1.5</th>\n",
       "      <td>4645.000000</td>\n",
       "      <td>1369.000000</td>\n",
       "      <td>0.000000</td>\n",
       "      <td>0.250000</td>\n",
       "      <td>0.000000</td>\n",
       "      <td>0.000000</td>\n",
       "      <td>0.000000</td>\n",
       "      <td>0.500000</td>\n",
       "      <td>0.000000</td>\n",
       "      <td>94113.750000</td>\n",
       "    </tr>\n",
       "    <tr>\n",
       "      <th>2.0</th>\n",
       "      <td>5969.823529</td>\n",
       "      <td>1579.300000</td>\n",
       "      <td>0.352941</td>\n",
       "      <td>0.764706</td>\n",
       "      <td>0.117647</td>\n",
       "      <td>0.176471</td>\n",
       "      <td>0.764706</td>\n",
       "      <td>0.647059</td>\n",
       "      <td>0.058824</td>\n",
       "      <td>94116.764706</td>\n",
       "    </tr>\n",
       "    <tr>\n",
       "      <th>2.5</th>\n",
       "      <td>7025.000000</td>\n",
       "      <td>2134.000000</td>\n",
       "      <td>0.500000</td>\n",
       "      <td>1.000000</td>\n",
       "      <td>0.000000</td>\n",
       "      <td>0.000000</td>\n",
       "      <td>1.000000</td>\n",
       "      <td>1.000000</td>\n",
       "      <td>0.500000</td>\n",
       "      <td>94115.500000</td>\n",
       "    </tr>\n",
       "    <tr>\n",
       "      <th>3.0</th>\n",
       "      <td>6797.500000</td>\n",
       "      <td>1600.000000</td>\n",
       "      <td>0.500000</td>\n",
       "      <td>0.500000</td>\n",
       "      <td>0.500000</td>\n",
       "      <td>0.000000</td>\n",
       "      <td>0.500000</td>\n",
       "      <td>0.500000</td>\n",
       "      <td>0.000000</td>\n",
       "      <td>94114.000000</td>\n",
       "    </tr>\n",
       "  </tbody>\n",
       "</table>\n",
       "</div>"
      ],
      "text/plain": [
       "                    rental price    Area (SF)  pets_allowed  laundry in unit  \\\n",
       "bedrooms bathrooms                                                             \n",
       "1        1.0         3213.803245   717.660287      0.452333         0.322515   \n",
       "         1.5         3526.666667   730.750000      0.666667         1.000000   \n",
       "         2.0         3233.333333   862.000000      0.333333         0.666667   \n",
       "2        1.0         3741.842975   915.979592      0.322314         0.223140   \n",
       "         1.5         4673.625000   981.250000      0.000000         0.375000   \n",
       "         2.0         4795.418605  1110.351852      0.558140         0.686047   \n",
       "         2.5         7113.800000  1499.800000      0.800000         1.000000   \n",
       "3        1.0         4690.000000  1158.555556      0.250000         0.312500   \n",
       "         1.5         4645.000000  1369.000000      0.000000         0.250000   \n",
       "         2.0         5969.823529  1579.300000      0.352941         0.764706   \n",
       "         2.5         7025.000000  2134.000000      0.500000         1.000000   \n",
       "         3.0         6797.500000  1600.000000      0.500000         0.500000   \n",
       "\n",
       "                    laundry on premise  furnished  parking available  \\\n",
       "bedrooms bathrooms                                                     \n",
       "1        1.0                  0.480730   0.075051           0.354970   \n",
       "         1.5                  0.000000   0.333333           0.833333   \n",
       "         2.0                  0.000000   0.333333           0.666667   \n",
       "2        1.0                  0.504132   0.066116           0.239669   \n",
       "         1.5                  0.625000   0.125000           0.625000   \n",
       "         2.0                  0.186047   0.139535           0.604651   \n",
       "         2.5                  0.000000   0.000000           1.000000   \n",
       "3        1.0                  0.375000   0.125000           0.000000   \n",
       "         1.5                  0.000000   0.000000           0.000000   \n",
       "         2.0                  0.117647   0.176471           0.764706   \n",
       "         2.5                  0.000000   0.000000           1.000000   \n",
       "         3.0                  0.500000   0.000000           0.500000   \n",
       "\n",
       "                    no smoking  wheelchair accessible           Zip  \n",
       "bedrooms bathrooms                                                   \n",
       "1        1.0          0.647059               0.121704  94116.166329  \n",
       "         1.5          0.666667               0.333333  94116.000000  \n",
       "         2.0          0.000000               0.000000  94120.000000  \n",
       "2        1.0          0.661157               0.033058  94116.793388  \n",
       "         1.5          0.500000               0.000000  94121.500000  \n",
       "         2.0          0.476744               0.116279  94117.674419  \n",
       "         2.5          0.800000               0.400000  94103.600000  \n",
       "3        1.0          0.625000               0.000000  94111.750000  \n",
       "         1.5          0.500000               0.000000  94113.750000  \n",
       "         2.0          0.647059               0.058824  94116.764706  \n",
       "         2.5          1.000000               0.500000  94115.500000  \n",
       "         3.0          0.500000               0.000000  94114.000000  "
      ]
     },
     "execution_count": 26,
     "metadata": {},
     "output_type": "execute_result"
    }
   ],
   "source": [
    "new_df.groupby(['bedrooms','bathrooms']).mean()"
   ]
  },
  {
   "cell_type": "code",
   "execution_count": 27,
   "metadata": {
    "collapsed": true
   },
   "outputs": [
    {
     "name": "stdout",
     "output_type": "stream",
     "text": [
      "<class 'pandas.core.frame.DataFrame'>\n",
      "RangeIndex: 763 entries, 0 to 762\n",
      "Data columns (total 13 columns):\n",
      "title                    763 non-null object\n",
      "rental price             763 non-null int64\n",
      "bedrooms                 763 non-null int64\n",
      "bathrooms                763 non-null float64\n",
      "Area (SF)                763 non-null float64\n",
      "pets_allowed             763 non-null int64\n",
      "laundry in unit          763 non-null int64\n",
      "laundry on premise       763 non-null int64\n",
      "furnished                763 non-null int64\n",
      "parking available        763 non-null int64\n",
      "no smoking               763 non-null int64\n",
      "wheelchair accessible    763 non-null int64\n",
      "Zip                      763 non-null int64\n",
      "dtypes: float64(2), int64(10), object(1)\n",
      "memory usage: 77.6+ KB\n"
     ]
    }
   ],
   "source": [
    "new_df.info()"
   ]
  },
  {
   "cell_type": "markdown",
   "metadata": {},
   "source": [
    "#### This marks the completion of data cleaning in the dataframe. The next part is to set variables for target and features. \n",
    "\n",
    "\n",
    "\n",
    "---"
   ]
  },
  {
   "cell_type": "markdown",
   "metadata": {},
   "source": [
    "## EDA & Analysis with Stats Model"
   ]
  },
  {
   "cell_type": "code",
   "execution_count": 28,
   "metadata": {},
   "outputs": [
    {
     "data": {
      "text/plain": [
       "Index(['rental_price', 'bedrooms', 'bathrooms', 'Area_SqFt', 'pets_allowed',\n",
       "       'laundry_in_unit', 'laundry_on_premise', 'furnished',\n",
       "       'parking_available', 'no_smoking', 'wheelchair_accessible'],\n",
       "      dtype='object')"
      ]
     },
     "execution_count": 28,
     "metadata": {},
     "output_type": "execute_result"
    }
   ],
   "source": [
    "#Set features (X) and Target (Y)\n",
    "new_df.columns\n",
    "sfrent_df = new_df.drop(['title', 'Zip'], axis=1)\n",
    "# rename column names to eliminate spaces\n",
    "sfrent_df = sfrent_df.rename(columns={'rental price':'rental_price','Area (SF)':'Area_SqFt',\\\n",
    "                                      'laundry in unit':'laundry_in_unit', 'laundry on premise':'laundry_on_premise',\\\n",
    "                                     'parking available': 'parking_available','no smoking':'no_smoking',\\\n",
    "                                      'wheelchair accessible':'wheelchair_accessible'})\n",
    "sfrent_df.columns"
   ]
  },
  {
   "cell_type": "code",
   "execution_count": 29,
   "metadata": {},
   "outputs": [],
   "source": [
    "# export csv\n",
    "sfrent_df.to_csv('sfrent_df_v2.csv') "
   ]
  },
  {
   "cell_type": "code",
   "execution_count": 30,
   "metadata": {},
   "outputs": [
    {
     "data": {
      "text/html": [
       "<div>\n",
       "<style scoped>\n",
       "    .dataframe tbody tr th:only-of-type {\n",
       "        vertical-align: middle;\n",
       "    }\n",
       "\n",
       "    .dataframe tbody tr th {\n",
       "        vertical-align: top;\n",
       "    }\n",
       "\n",
       "    .dataframe thead th {\n",
       "        text-align: right;\n",
       "    }\n",
       "</style>\n",
       "<table border=\"1\" class=\"dataframe\">\n",
       "  <thead>\n",
       "    <tr style=\"text-align: right;\">\n",
       "      <th></th>\n",
       "      <th>rental_price</th>\n",
       "      <th>bedrooms</th>\n",
       "      <th>bathrooms</th>\n",
       "      <th>Area_SqFt</th>\n",
       "      <th>pets_allowed</th>\n",
       "      <th>laundry_in_unit</th>\n",
       "      <th>laundry_on_premise</th>\n",
       "      <th>furnished</th>\n",
       "      <th>parking_available</th>\n",
       "      <th>no_smoking</th>\n",
       "      <th>wheelchair_accessible</th>\n",
       "    </tr>\n",
       "  </thead>\n",
       "  <tbody>\n",
       "    <tr>\n",
       "      <th>rental_price</th>\n",
       "      <td>1.000000</td>\n",
       "      <td>0.518368</td>\n",
       "      <td>0.537987</td>\n",
       "      <td>0.610725</td>\n",
       "      <td>0.240749</td>\n",
       "      <td>0.479112</td>\n",
       "      <td>-0.253607</td>\n",
       "      <td>0.125088</td>\n",
       "      <td>0.241528</td>\n",
       "      <td>-0.041661</td>\n",
       "      <td>0.104575</td>\n",
       "    </tr>\n",
       "    <tr>\n",
       "      <th>bedrooms</th>\n",
       "      <td>0.518368</td>\n",
       "      <td>1.000000</td>\n",
       "      <td>0.570143</td>\n",
       "      <td>0.760708</td>\n",
       "      <td>-0.071922</td>\n",
       "      <td>0.119762</td>\n",
       "      <td>-0.134112</td>\n",
       "      <td>0.038621</td>\n",
       "      <td>0.039523</td>\n",
       "      <td>-0.037714</td>\n",
       "      <td>-0.084759</td>\n",
       "    </tr>\n",
       "    <tr>\n",
       "      <th>bathrooms</th>\n",
       "      <td>0.537987</td>\n",
       "      <td>0.570143</td>\n",
       "      <td>1.000000</td>\n",
       "      <td>0.676402</td>\n",
       "      <td>0.071154</td>\n",
       "      <td>0.307457</td>\n",
       "      <td>-0.228923</td>\n",
       "      <td>0.076552</td>\n",
       "      <td>0.249690</td>\n",
       "      <td>-0.092727</td>\n",
       "      <td>0.032588</td>\n",
       "    </tr>\n",
       "    <tr>\n",
       "      <th>Area_SqFt</th>\n",
       "      <td>0.610725</td>\n",
       "      <td>0.760708</td>\n",
       "      <td>0.676402</td>\n",
       "      <td>1.000000</td>\n",
       "      <td>-0.033678</td>\n",
       "      <td>0.244041</td>\n",
       "      <td>-0.186793</td>\n",
       "      <td>0.062418</td>\n",
       "      <td>0.159096</td>\n",
       "      <td>-0.093225</td>\n",
       "      <td>-0.062725</td>\n",
       "    </tr>\n",
       "    <tr>\n",
       "      <th>pets_allowed</th>\n",
       "      <td>0.240749</td>\n",
       "      <td>-0.071922</td>\n",
       "      <td>0.071154</td>\n",
       "      <td>-0.033678</td>\n",
       "      <td>1.000000</td>\n",
       "      <td>0.428284</td>\n",
       "      <td>-0.241935</td>\n",
       "      <td>0.012872</td>\n",
       "      <td>0.068843</td>\n",
       "      <td>0.162019</td>\n",
       "      <td>0.330563</td>\n",
       "    </tr>\n",
       "    <tr>\n",
       "      <th>laundry_in_unit</th>\n",
       "      <td>0.479112</td>\n",
       "      <td>0.119762</td>\n",
       "      <td>0.307457</td>\n",
       "      <td>0.244041</td>\n",
       "      <td>0.428284</td>\n",
       "      <td>1.000000</td>\n",
       "      <td>-0.666753</td>\n",
       "      <td>0.101543</td>\n",
       "      <td>0.233851</td>\n",
       "      <td>0.093711</td>\n",
       "      <td>0.295162</td>\n",
       "    </tr>\n",
       "    <tr>\n",
       "      <th>laundry_on_premise</th>\n",
       "      <td>-0.253607</td>\n",
       "      <td>-0.134112</td>\n",
       "      <td>-0.228923</td>\n",
       "      <td>-0.186793</td>\n",
       "      <td>-0.241935</td>\n",
       "      <td>-0.666753</td>\n",
       "      <td>1.000000</td>\n",
       "      <td>-0.069431</td>\n",
       "      <td>-0.012203</td>\n",
       "      <td>0.008299</td>\n",
       "      <td>-0.158922</td>\n",
       "    </tr>\n",
       "    <tr>\n",
       "      <th>furnished</th>\n",
       "      <td>0.125088</td>\n",
       "      <td>0.038621</td>\n",
       "      <td>0.076552</td>\n",
       "      <td>0.062418</td>\n",
       "      <td>0.012872</td>\n",
       "      <td>0.101543</td>\n",
       "      <td>-0.069431</td>\n",
       "      <td>1.000000</td>\n",
       "      <td>0.009624</td>\n",
       "      <td>0.025567</td>\n",
       "      <td>0.001217</td>\n",
       "    </tr>\n",
       "    <tr>\n",
       "      <th>parking_available</th>\n",
       "      <td>0.241528</td>\n",
       "      <td>0.039523</td>\n",
       "      <td>0.249690</td>\n",
       "      <td>0.159096</td>\n",
       "      <td>0.068843</td>\n",
       "      <td>0.233851</td>\n",
       "      <td>-0.012203</td>\n",
       "      <td>0.009624</td>\n",
       "      <td>1.000000</td>\n",
       "      <td>-0.028212</td>\n",
       "      <td>0.306015</td>\n",
       "    </tr>\n",
       "    <tr>\n",
       "      <th>no_smoking</th>\n",
       "      <td>-0.041661</td>\n",
       "      <td>-0.037714</td>\n",
       "      <td>-0.092727</td>\n",
       "      <td>-0.093225</td>\n",
       "      <td>0.162019</td>\n",
       "      <td>0.093711</td>\n",
       "      <td>0.008299</td>\n",
       "      <td>0.025567</td>\n",
       "      <td>-0.028212</td>\n",
       "      <td>1.000000</td>\n",
       "      <td>0.175830</td>\n",
       "    </tr>\n",
       "    <tr>\n",
       "      <th>wheelchair_accessible</th>\n",
       "      <td>0.104575</td>\n",
       "      <td>-0.084759</td>\n",
       "      <td>0.032588</td>\n",
       "      <td>-0.062725</td>\n",
       "      <td>0.330563</td>\n",
       "      <td>0.295162</td>\n",
       "      <td>-0.158922</td>\n",
       "      <td>0.001217</td>\n",
       "      <td>0.306015</td>\n",
       "      <td>0.175830</td>\n",
       "      <td>1.000000</td>\n",
       "    </tr>\n",
       "  </tbody>\n",
       "</table>\n",
       "</div>"
      ],
      "text/plain": [
       "                       rental_price  bedrooms  bathrooms  Area_SqFt  \\\n",
       "rental_price               1.000000  0.518368   0.537987   0.610725   \n",
       "bedrooms                   0.518368  1.000000   0.570143   0.760708   \n",
       "bathrooms                  0.537987  0.570143   1.000000   0.676402   \n",
       "Area_SqFt                  0.610725  0.760708   0.676402   1.000000   \n",
       "pets_allowed               0.240749 -0.071922   0.071154  -0.033678   \n",
       "laundry_in_unit            0.479112  0.119762   0.307457   0.244041   \n",
       "laundry_on_premise        -0.253607 -0.134112  -0.228923  -0.186793   \n",
       "furnished                  0.125088  0.038621   0.076552   0.062418   \n",
       "parking_available          0.241528  0.039523   0.249690   0.159096   \n",
       "no_smoking                -0.041661 -0.037714  -0.092727  -0.093225   \n",
       "wheelchair_accessible      0.104575 -0.084759   0.032588  -0.062725   \n",
       "\n",
       "                       pets_allowed  laundry_in_unit  laundry_on_premise  \\\n",
       "rental_price               0.240749         0.479112           -0.253607   \n",
       "bedrooms                  -0.071922         0.119762           -0.134112   \n",
       "bathrooms                  0.071154         0.307457           -0.228923   \n",
       "Area_SqFt                 -0.033678         0.244041           -0.186793   \n",
       "pets_allowed               1.000000         0.428284           -0.241935   \n",
       "laundry_in_unit            0.428284         1.000000           -0.666753   \n",
       "laundry_on_premise        -0.241935        -0.666753            1.000000   \n",
       "furnished                  0.012872         0.101543           -0.069431   \n",
       "parking_available          0.068843         0.233851           -0.012203   \n",
       "no_smoking                 0.162019         0.093711            0.008299   \n",
       "wheelchair_accessible      0.330563         0.295162           -0.158922   \n",
       "\n",
       "                       furnished  parking_available  no_smoking  \\\n",
       "rental_price            0.125088           0.241528   -0.041661   \n",
       "bedrooms                0.038621           0.039523   -0.037714   \n",
       "bathrooms               0.076552           0.249690   -0.092727   \n",
       "Area_SqFt               0.062418           0.159096   -0.093225   \n",
       "pets_allowed            0.012872           0.068843    0.162019   \n",
       "laundry_in_unit         0.101543           0.233851    0.093711   \n",
       "laundry_on_premise     -0.069431          -0.012203    0.008299   \n",
       "furnished               1.000000           0.009624    0.025567   \n",
       "parking_available       0.009624           1.000000   -0.028212   \n",
       "no_smoking              0.025567          -0.028212    1.000000   \n",
       "wheelchair_accessible   0.001217           0.306015    0.175830   \n",
       "\n",
       "                       wheelchair_accessible  \n",
       "rental_price                        0.104575  \n",
       "bedrooms                           -0.084759  \n",
       "bathrooms                           0.032588  \n",
       "Area_SqFt                          -0.062725  \n",
       "pets_allowed                        0.330563  \n",
       "laundry_in_unit                     0.295162  \n",
       "laundry_on_premise                 -0.158922  \n",
       "furnished                           0.001217  \n",
       "parking_available                   0.306015  \n",
       "no_smoking                          0.175830  \n",
       "wheelchair_accessible               1.000000  "
      ]
     },
     "execution_count": 30,
     "metadata": {},
     "output_type": "execute_result"
    }
   ],
   "source": [
    "# View the correlations\n",
    "sfrent_df.corr()"
   ]
  },
  {
   "cell_type": "markdown",
   "metadata": {},
   "source": [
    "There are some interesting trends based on the correlation heatmap\n",
    "* There is a high positive correlation between having washer and dryer in the unit and rent. Where as having washer and dryer within the premise(building) resulted in a negative correlation, meaning rent prices are typically lower when washer and dryers are avaialable within the building but not in the unit. \n",
    "* furnished units, wheelchair accessibility, and no smoking units has a slight negative correlation with rental price"
   ]
  },
  {
   "cell_type": "code",
   "execution_count": 31,
   "metadata": {},
   "outputs": [
    {
     "data": {
      "image/png": "[encoded data removed]",
      "text/plain": [
       "<Figure size 864x864 with 2 Axes>"
      ]
     },
     "metadata": {},
     "output_type": "display_data"
    }
   ],
   "source": [
    "fig, ax = plt.subplots(figsize=(12,12))\n",
    "sns.heatmap(sfrent_df.corr(), cmap=\"seismic\", annot=True, linewidths=.5, ax=ax);"
   ]
  },
  {
   "cell_type": "code",
   "execution_count": 32,
   "metadata": {},
   "outputs": [
    {
     "data": {
      "image/png": "[encoded data removed]",
      "text/plain": [
       "<Figure size 1425.6x950.4 with 132 Axes>"
      ]
     },
     "metadata": {},
     "output_type": "display_data"
    }
   ],
   "source": [
    "# Plot all of the variable-to-variable relations as scatterplots\n",
    "sns.pairplot(sfrent_df, height=1.2, aspect=1.5);"
   ]
  },
  {
   "cell_type": "markdown",
   "metadata": {},
   "source": [
    "\n",
    "\n",
    "Nothing out of the ordinary from the below plots. The correlation between square footage and number of bedrooms and bathrooms are as expected"
   ]
  },
  {
   "cell_type": "code",
   "execution_count": 33,
   "metadata": {},
   "outputs": [
    {
     "data": {
      "image/png": "[encoded data removed]",
      "text/plain": [
       "<Figure size 432x288 with 1 Axes>"
      ]
     },
     "metadata": {},
     "output_type": "display_data"
    }
   ],
   "source": [
    "#PLOT of Area vs Rental Price\n",
    "ax = sns.regplot(x='Area_SqFt', y='rental_price', data=sfrent_df, scatter_kws={\"s\": 5}, robust=True, ci=None)"
   ]
  },
  {
   "cell_type": "code",
   "execution_count": 34,
   "metadata": {},
   "outputs": [
    {
     "data": {
      "image/png": "[encoded data removed]",
      "text/plain": [
       "<Figure size 432x288 with 1 Axes>"
      ]
     },
     "metadata": {},
     "output_type": "display_data"
    }
   ],
   "source": [
    "#PLOT of Bedrooms vs Rental Price\n",
    "ax = sns.stripplot(x='bedrooms', y='rental_price', data=sfrent_df, jitter=True)"
   ]
  },
  {
   "cell_type": "code",
   "execution_count": 35,
   "metadata": {},
   "outputs": [
    {
     "data": {
      "image/png": "[encoded data removed]",
      "text/plain": [
       "<Figure size 432x288 with 1 Axes>"
      ]
     },
     "metadata": {},
     "output_type": "display_data"
    }
   ],
   "source": [
    "#PLOT of Bathroom vs Rental Price\n",
    "ax = sns.stripplot(x='bathrooms', y='rental_price', data=sfrent_df, jitter=True)"
   ]
  },
  {
   "cell_type": "code",
   "execution_count": 36,
   "metadata": {},
   "outputs": [
    {
     "data": {
      "text/plain": [
       "rental_price             1.000000\n",
       "Area_SqFt                0.610725\n",
       "bathrooms                0.537987\n",
       "bedrooms                 0.518368\n",
       "laundry_in_unit          0.479112\n",
       "parking_available        0.241528\n",
       "pets_allowed             0.240749\n",
       "furnished                0.125088\n",
       "wheelchair_accessible    0.104575\n",
       "no_smoking              -0.041661\n",
       "laundry_on_premise      -0.253607\n",
       "Name: rental_price, dtype: float64"
      ]
     },
     "execution_count": 36,
     "metadata": {},
     "output_type": "execute_result"
    }
   ],
   "source": [
    "# Sort correlation vs. price in descending order to gauge which features are more important\n",
    "sfrent_df.corr()['rental_price'].sort_values(ascending=False)"
   ]
  },
  {
   "cell_type": "code",
   "execution_count": 37,
   "metadata": {},
   "outputs": [],
   "source": [
    "# Create feature matrix (X) and target vector (y)\n",
    "y, X = patsy.dmatrices(\"rental_price ~ bedrooms + bathrooms + Area_SqFt + pets_allowed + laundry_in_unit \\\n",
    "+ laundry_on_premise + furnished + parking_available + no_smoking \\\n",
    "+ wheelchair_accessible\", data=sfrent_df, return_type=\"dataframe\")"
   ]
  },
  {
   "cell_type": "code",
   "execution_count": 38,
   "metadata": {},
   "outputs": [
    {
     "data": {
      "text/html": [
       "<table class=\"simpletable\">\n",
       "<caption>OLS Regression Results</caption>\n",
       "<tr>\n",
       "  <th>Dep. Variable:</th>      <td>rental_price</td>   <th>  R-squared:         </th> <td>   0.547</td> \n",
       "</tr>\n",
       "<tr>\n",
       "  <th>Model:</th>                   <td>OLS</td>       <th>  Adj. R-squared:    </th> <td>   0.541</td> \n",
       "</tr>\n",
       "<tr>\n",
       "  <th>Method:</th>             <td>Least Squares</td>  <th>  F-statistic:       </th> <td>   90.78</td> \n",
       "</tr>\n",
       "<tr>\n",
       "  <th>Date:</th>             <td>Thu, 23 May 2019</td> <th>  Prob (F-statistic):</th> <td>3.98e-122</td>\n",
       "</tr>\n",
       "<tr>\n",
       "  <th>Time:</th>                 <td>20:40:33</td>     <th>  Log-Likelihood:    </th> <td> -6204.9</td> \n",
       "</tr>\n",
       "<tr>\n",
       "  <th>No. Observations:</th>      <td>   763</td>      <th>  AIC:               </th> <td>1.243e+04</td>\n",
       "</tr>\n",
       "<tr>\n",
       "  <th>Df Residuals:</th>          <td>   752</td>      <th>  BIC:               </th> <td>1.248e+04</td>\n",
       "</tr>\n",
       "<tr>\n",
       "  <th>Df Model:</th>              <td>    10</td>      <th>                     </th>     <td> </td>    \n",
       "</tr>\n",
       "<tr>\n",
       "  <th>Covariance Type:</th>      <td>nonrobust</td>    <th>                     </th>     <td> </td>    \n",
       "</tr>\n",
       "</table>\n",
       "<table class=\"simpletable\">\n",
       "<tr>\n",
       "            <td></td>               <th>coef</th>     <th>std err</th>      <th>t</th>      <th>P>|t|</th>  <th>[0.025</th>    <th>0.975]</th>  \n",
       "</tr>\n",
       "<tr>\n",
       "  <th>Intercept</th>             <td>  762.5919</td> <td>  137.032</td> <td>    5.565</td> <td> 0.000</td> <td>  493.581</td> <td> 1031.603</td>\n",
       "</tr>\n",
       "<tr>\n",
       "  <th>bedrooms</th>              <td>  422.5438</td> <td>   80.933</td> <td>    5.221</td> <td> 0.000</td> <td>  263.661</td> <td>  581.426</td>\n",
       "</tr>\n",
       "<tr>\n",
       "  <th>bathrooms</th>             <td>  291.3692</td> <td>  112.006</td> <td>    2.601</td> <td> 0.009</td> <td>   71.488</td> <td>  511.251</td>\n",
       "</tr>\n",
       "<tr>\n",
       "  <th>Area_SqFt</th>             <td>    1.5576</td> <td>    0.214</td> <td>    7.282</td> <td> 0.000</td> <td>    1.138</td> <td>    1.977</td>\n",
       "</tr>\n",
       "<tr>\n",
       "  <th>pets_allowed</th>          <td>  348.7244</td> <td>   70.413</td> <td>    4.953</td> <td> 0.000</td> <td>  210.495</td> <td>  486.954</td>\n",
       "</tr>\n",
       "<tr>\n",
       "  <th>laundry_in_unit</th>       <td>  920.8457</td> <td>   97.351</td> <td>    9.459</td> <td> 0.000</td> <td>  729.733</td> <td> 1111.958</td>\n",
       "</tr>\n",
       "<tr>\n",
       "  <th>laundry_on_premise</th>    <td>  333.3875</td> <td>   83.974</td> <td>    3.970</td> <td> 0.000</td> <td>  168.536</td> <td>  498.238</td>\n",
       "</tr>\n",
       "<tr>\n",
       "  <th>furnished</th>             <td>  269.2337</td> <td>  107.633</td> <td>    2.501</td> <td> 0.013</td> <td>   57.937</td> <td>  480.531</td>\n",
       "</tr>\n",
       "<tr>\n",
       "  <th>parking_available</th>     <td>  168.5025</td> <td>   69.968</td> <td>    2.408</td> <td> 0.016</td> <td>   31.148</td> <td>  305.857</td>\n",
       "</tr>\n",
       "<tr>\n",
       "  <th>no_smoking</th>            <td> -133.9319</td> <td>   64.542</td> <td>   -2.075</td> <td> 0.038</td> <td> -260.635</td> <td>   -7.229</td>\n",
       "</tr>\n",
       "<tr>\n",
       "  <th>wheelchair_accessible</th> <td>  -20.6748</td> <td>  112.005</td> <td>   -0.185</td> <td> 0.854</td> <td> -240.555</td> <td>  199.205</td>\n",
       "</tr>\n",
       "</table>\n",
       "<table class=\"simpletable\">\n",
       "<tr>\n",
       "  <th>Omnibus:</th>       <td>186.527</td> <th>  Durbin-Watson:     </th> <td>   1.836</td>\n",
       "</tr>\n",
       "<tr>\n",
       "  <th>Prob(Omnibus):</th> <td> 0.000</td>  <th>  Jarque-Bera (JB):  </th> <td>2603.101</td>\n",
       "</tr>\n",
       "<tr>\n",
       "  <th>Skew:</th>          <td> 0.685</td>  <th>  Prob(JB):          </th> <td>    0.00</td>\n",
       "</tr>\n",
       "<tr>\n",
       "  <th>Kurtosis:</th>      <td>11.945</td>  <th>  Cond. No.          </th> <td>4.42e+03</td>\n",
       "</tr>\n",
       "</table><br/><br/>Warnings:<br/>[1] Standard Errors assume that the covariance matrix of the errors is correctly specified.<br/>[2] The condition number is large, 4.42e+03. This might indicate that there are<br/>strong multicollinearity or other numerical problems."
      ],
      "text/plain": [
       "<class 'statsmodels.iolib.summary.Summary'>\n",
       "\"\"\"\n",
       "                            OLS Regression Results                            \n",
       "==============================================================================\n",
       "Dep. Variable:           rental_price   R-squared:                       0.547\n",
       "Model:                            OLS   Adj. R-squared:                  0.541\n",
       "Method:                 Least Squares   F-statistic:                     90.78\n",
       "Date:                Thu, 23 May 2019   Prob (F-statistic):          3.98e-122\n",
       "Time:                        20:40:33   Log-Likelihood:                -6204.9\n",
       "No. Observations:                 763   AIC:                         1.243e+04\n",
       "Df Residuals:                     752   BIC:                         1.248e+04\n",
       "Df Model:                          10                                         \n",
       "Covariance Type:            nonrobust                                         \n",
       "=========================================================================================\n",
       "                            coef    std err          t      P>|t|      [0.025      0.975]\n",
       "-----------------------------------------------------------------------------------------\n",
       "Intercept               762.5919    137.032      5.565      0.000     493.581    1031.603\n",
       "bedrooms                422.5438     80.933      5.221      0.000     263.661     581.426\n",
       "bathrooms               291.3692    112.006      2.601      0.009      71.488     511.251\n",
       "Area_SqFt                 1.5576      0.214      7.282      0.000       1.138       1.977\n",
       "pets_allowed            348.7244     70.413      4.953      0.000     210.495     486.954\n",
       "laundry_in_unit         920.8457     97.351      9.459      0.000     729.733    1111.958\n",
       "laundry_on_premise      333.3875     83.974      3.970      0.000     168.536     498.238\n",
       "furnished               269.2337    107.633      2.501      0.013      57.937     480.531\n",
       "parking_available       168.5025     69.968      2.408      0.016      31.148     305.857\n",
       "no_smoking             -133.9319     64.542     -2.075      0.038    -260.635      -7.229\n",
       "wheelchair_accessible   -20.6748    112.005     -0.185      0.854    -240.555     199.205\n",
       "==============================================================================\n",
       "Omnibus:                      186.527   Durbin-Watson:                   1.836\n",
       "Prob(Omnibus):                  0.000   Jarque-Bera (JB):             2603.101\n",
       "Skew:                           0.685   Prob(JB):                         0.00\n",
       "Kurtosis:                      11.945   Cond. No.                     4.42e+03\n",
       "==============================================================================\n",
       "\n",
       "Warnings:\n",
       "[1] Standard Errors assume that the covariance matrix of the errors is correctly specified.\n",
       "[2] The condition number is large, 4.42e+03. This might indicate that there are\n",
       "strong multicollinearity or other numerical problems.\n",
       "\"\"\""
      ]
     },
     "execution_count": 38,
     "metadata": {},
     "output_type": "execute_result"
    }
   ],
   "source": [
    "# Create model\n",
    "model = sm.OLS(y, X)\n",
    "\n",
    "# Fit model to training set\n",
    "fit = model.fit()\n",
    "\n",
    "# Print summary statistics of the model's performance\n",
    "fit.summary()"
   ]
  },
  {
   "cell_type": "markdown",
   "metadata": {},
   "source": [
    "-- \n",
    "\n",
    "Dropped \"wheelchair_accesible\" due to very high p-value, also from domain knowledge I know this is not very important for the majority of people looking to rent. Updated target and feature variables, however, the changes were insignificant."
   ]
  },
  {
   "cell_type": "code",
   "execution_count": 39,
   "metadata": {},
   "outputs": [
    {
     "data": {
      "text/html": [
       "<table class=\"simpletable\">\n",
       "<caption>OLS Regression Results</caption>\n",
       "<tr>\n",
       "  <th>Dep. Variable:</th>      <td>rental_price</td>   <th>  R-squared:         </th> <td>   0.547</td> \n",
       "</tr>\n",
       "<tr>\n",
       "  <th>Model:</th>                   <td>OLS</td>       <th>  Adj. R-squared:    </th> <td>   0.542</td> \n",
       "</tr>\n",
       "<tr>\n",
       "  <th>Method:</th>             <td>Least Squares</td>  <th>  F-statistic:       </th> <td>   101.0</td> \n",
       "</tr>\n",
       "<tr>\n",
       "  <th>Date:</th>             <td>Thu, 23 May 2019</td> <th>  Prob (F-statistic):</th> <td>3.92e-123</td>\n",
       "</tr>\n",
       "<tr>\n",
       "  <th>Time:</th>                 <td>20:40:38</td>     <th>  Log-Likelihood:    </th> <td> -6204.9</td> \n",
       "</tr>\n",
       "<tr>\n",
       "  <th>No. Observations:</th>      <td>   763</td>      <th>  AIC:               </th> <td>1.243e+04</td>\n",
       "</tr>\n",
       "<tr>\n",
       "  <th>Df Residuals:</th>          <td>   753</td>      <th>  BIC:               </th> <td>1.248e+04</td>\n",
       "</tr>\n",
       "<tr>\n",
       "  <th>Df Model:</th>              <td>     9</td>      <th>                     </th>     <td> </td>    \n",
       "</tr>\n",
       "<tr>\n",
       "  <th>Covariance Type:</th>      <td>nonrobust</td>    <th>                     </th>     <td> </td>    \n",
       "</tr>\n",
       "</table>\n",
       "<table class=\"simpletable\">\n",
       "<tr>\n",
       "           <td></td>             <th>coef</th>     <th>std err</th>      <th>t</th>      <th>P>|t|</th>  <th>[0.025</th>    <th>0.975]</th>  \n",
       "</tr>\n",
       "<tr>\n",
       "  <th>Intercept</th>          <td>  761.6554</td> <td>  136.850</td> <td>    5.566</td> <td> 0.000</td> <td>  493.002</td> <td> 1030.309</td>\n",
       "</tr>\n",
       "<tr>\n",
       "  <th>bedrooms</th>           <td>  422.5060</td> <td>   80.881</td> <td>    5.224</td> <td> 0.000</td> <td>  263.726</td> <td>  581.286</td>\n",
       "</tr>\n",
       "<tr>\n",
       "  <th>bathrooms</th>          <td>  291.5222</td> <td>  111.931</td> <td>    2.604</td> <td> 0.009</td> <td>   71.788</td> <td>  511.256</td>\n",
       "</tr>\n",
       "<tr>\n",
       "  <th>Area_SqFt</th>          <td>    1.5607</td> <td>    0.213</td> <td>    7.325</td> <td> 0.000</td> <td>    1.142</td> <td>    1.979</td>\n",
       "</tr>\n",
       "<tr>\n",
       "  <th>pets_allowed</th>       <td>  345.8724</td> <td>   68.653</td> <td>    5.038</td> <td> 0.000</td> <td>  211.099</td> <td>  480.646</td>\n",
       "</tr>\n",
       "<tr>\n",
       "  <th>laundry_in_unit</th>    <td>  919.2034</td> <td>   96.881</td> <td>    9.488</td> <td> 0.000</td> <td>  729.013</td> <td> 1109.393</td>\n",
       "</tr>\n",
       "<tr>\n",
       "  <th>laundry_on_premise</th> <td>  333.9599</td> <td>   83.863</td> <td>    3.982</td> <td> 0.000</td> <td>  169.327</td> <td>  498.592</td>\n",
       "</tr>\n",
       "<tr>\n",
       "  <th>furnished</th>          <td>  269.5747</td> <td>  107.548</td> <td>    2.507</td> <td> 0.012</td> <td>   58.445</td> <td>  480.705</td>\n",
       "</tr>\n",
       "<tr>\n",
       "  <th>parking_available</th>  <td>  164.7641</td> <td>   66.929</td> <td>    2.462</td> <td> 0.014</td> <td>   33.374</td> <td>  296.154</td>\n",
       "</tr>\n",
       "<tr>\n",
       "  <th>no_smoking</th>         <td> -135.5625</td> <td>   63.893</td> <td>   -2.122</td> <td> 0.034</td> <td> -260.993</td> <td>  -10.132</td>\n",
       "</tr>\n",
       "</table>\n",
       "<table class=\"simpletable\">\n",
       "<tr>\n",
       "  <th>Omnibus:</th>       <td>186.512</td> <th>  Durbin-Watson:     </th> <td>   1.836</td>\n",
       "</tr>\n",
       "<tr>\n",
       "  <th>Prob(Omnibus):</th> <td> 0.000</td>  <th>  Jarque-Bera (JB):  </th> <td>2610.848</td>\n",
       "</tr>\n",
       "<tr>\n",
       "  <th>Skew:</th>          <td> 0.684</td>  <th>  Prob(JB):          </th> <td>    0.00</td>\n",
       "</tr>\n",
       "<tr>\n",
       "  <th>Kurtosis:</th>      <td>11.958</td>  <th>  Cond. No.          </th> <td>4.42e+03</td>\n",
       "</tr>\n",
       "</table><br/><br/>Warnings:<br/>[1] Standard Errors assume that the covariance matrix of the errors is correctly specified.<br/>[2] The condition number is large, 4.42e+03. This might indicate that there are<br/>strong multicollinearity or other numerical problems."
      ],
      "text/plain": [
       "<class 'statsmodels.iolib.summary.Summary'>\n",
       "\"\"\"\n",
       "                            OLS Regression Results                            \n",
       "==============================================================================\n",
       "Dep. Variable:           rental_price   R-squared:                       0.547\n",
       "Model:                            OLS   Adj. R-squared:                  0.542\n",
       "Method:                 Least Squares   F-statistic:                     101.0\n",
       "Date:                Thu, 23 May 2019   Prob (F-statistic):          3.92e-123\n",
       "Time:                        20:40:38   Log-Likelihood:                -6204.9\n",
       "No. Observations:                 763   AIC:                         1.243e+04\n",
       "Df Residuals:                     753   BIC:                         1.248e+04\n",
       "Df Model:                           9                                         \n",
       "Covariance Type:            nonrobust                                         \n",
       "======================================================================================\n",
       "                         coef    std err          t      P>|t|      [0.025      0.975]\n",
       "--------------------------------------------------------------------------------------\n",
       "Intercept            761.6554    136.850      5.566      0.000     493.002    1030.309\n",
       "bedrooms             422.5060     80.881      5.224      0.000     263.726     581.286\n",
       "bathrooms            291.5222    111.931      2.604      0.009      71.788     511.256\n",
       "Area_SqFt              1.5607      0.213      7.325      0.000       1.142       1.979\n",
       "pets_allowed         345.8724     68.653      5.038      0.000     211.099     480.646\n",
       "laundry_in_unit      919.2034     96.881      9.488      0.000     729.013    1109.393\n",
       "laundry_on_premise   333.9599     83.863      3.982      0.000     169.327     498.592\n",
       "furnished            269.5747    107.548      2.507      0.012      58.445     480.705\n",
       "parking_available    164.7641     66.929      2.462      0.014      33.374     296.154\n",
       "no_smoking          -135.5625     63.893     -2.122      0.034    -260.993     -10.132\n",
       "==============================================================================\n",
       "Omnibus:                      186.512   Durbin-Watson:                   1.836\n",
       "Prob(Omnibus):                  0.000   Jarque-Bera (JB):             2610.848\n",
       "Skew:                           0.684   Prob(JB):                         0.00\n",
       "Kurtosis:                      11.958   Cond. No.                     4.42e+03\n",
       "==============================================================================\n",
       "\n",
       "Warnings:\n",
       "[1] Standard Errors assume that the covariance matrix of the errors is correctly specified.\n",
       "[2] The condition number is large, 4.42e+03. This might indicate that there are\n",
       "strong multicollinearity or other numerical problems.\n",
       "\"\"\""
      ]
     },
     "execution_count": 39,
     "metadata": {},
     "output_type": "execute_result"
    }
   ],
   "source": [
    "# removed \"wheelchair_accesible\"\n",
    "y, X = patsy.dmatrices('rental_price ~ bedrooms + bathrooms + Area_SqFt + pets_allowed + laundry_in_unit \\\n",
    "+ laundry_on_premise + furnished + parking_available + no_smoking' , data=sfrent_df, return_type=\"dataframe\")\n",
    "\n",
    "# Create model\n",
    "model = sm.OLS(y, X)\n",
    "\n",
    "# Fit model to training set\n",
    "fit = model.fit()\n",
    "\n",
    "# Print summary statistics of the model's performance\n",
    "fit.summary()"
   ]
  },
  {
   "cell_type": "markdown",
   "metadata": {},
   "source": [
    "\n",
    "**NOTE:** \n",
    "\n",
    "The coefficient for the feature, \"laundry_in_unit\", appears to be irregularly high. At \\\\$919, it is higher than the intercept of \\\\$761. One possible explanation for this is that apartment and homes with washer/dryer within the dwelling unit tends to be much newer and in better living condition, as it would require additional plumbing, fixtures, and building code compliance. In other words, units with washer/dryer all happens to be in newer/remodeled/modern homes that commands higher rental prices. Therefore, the laundry_in_unit feature encapsulates other ammenities or benefits of the unit, that the other features in this study do not. Of course, this hyptothesis will require additional research and is out of the scope of this project. \n",
    "\n",
    "The coefficent for beadrooms (\\\\$423) and bathrooms (\\\\$292) appears a bit low based with respect to the some of the other features, and general domain knowledge of current SF rental prices. However, these ranges are reasonable given the R-squared score of .547 and relatively high mean-square error of $852.\n",
    "\n",
    "---\n",
    "\n"
   ]
  },
  {
   "cell_type": "markdown",
   "metadata": {},
   "source": [
    "\n",
    "\n",
    "The residual plot looks good as all of the data points appears random and looks evenly distributed across the 0 axis"
   ]
  },
  {
   "cell_type": "code",
   "execution_count": 40,
   "metadata": {},
   "outputs": [
    {
     "data": {
      "image/png": "[encoded data removed]",
      "text/plain": [
       "<Figure size 864x576 with 1 Axes>"
      ]
     },
     "metadata": {},
     "output_type": "display_data"
    }
   ],
   "source": [
    "# Use statsmodels to plot the residuals\n",
    "fit.resid.plot(style='o', figsize=(12,8));"
   ]
  },
  {
   "cell_type": "markdown",
   "metadata": {},
   "source": [
    "---\n",
    "\n",
    "TEST: Dropped two categorical factors (no smoking, furnished) I know are probably not very important. Dropping 'no smoking', 'furnished' did not change the model by too much, slightly lower R^2, lower kurtosis. Therefore, I am keeping these features. "
   ]
  },
  {
   "cell_type": "code",
   "execution_count": null,
   "metadata": {},
   "outputs": [],
   "source": [
    "# # y_test, X_test = patsy.dmatrices('rental_price ~ bedrooms + bathrooms + Area_SqFt + pets_allowed + laundry_in_unit \\\n",
    "# #  + laundry_on_premise + parking_available' , data=sfrent_df, return_type=\"dataframe\")\n",
    "\n",
    "# # Create model\n",
    "# model_test = sm.OLS(y_test, X_test)\n",
    "\n",
    "# # Fit model to training set\n",
    "# fit_test = model_test.fit()\n",
    "\n",
    "# # Print summary statistics of the model's performance\n",
    "# fit_test.summary()"
   ]
  },
  {
   "cell_type": "markdown",
   "metadata": {},
   "source": [
    "---"
   ]
  },
  {
   "cell_type": "markdown",
   "metadata": {},
   "source": [
    "Using SKlearn to double check Stats Model results, R^2 score is identical"
   ]
  },
  {
   "cell_type": "code",
   "execution_count": 41,
   "metadata": {},
   "outputs": [
    {
     "data": {
      "text/plain": [
       "0.5469245340111237"
      ]
     },
     "execution_count": 41,
     "metadata": {},
     "output_type": "execute_result"
    }
   ],
   "source": [
    "# Create an empty model\n",
    "lr = LinearRegression()\n",
    "\n",
    "y0, X0 = patsy.dmatrices('rental_price ~ bedrooms + bathrooms + Area_SqFt + pets_allowed + laundry_in_unit \\\n",
    "+ laundry_on_premise + furnished + parking_available + no_smoking' , data=sfrent_df, return_type=\"dataframe\")\n",
    "\n",
    "# Fit the model to the full dataset\n",
    "lr.fit(X0, y0)\n",
    "\n",
    "# Print out the R^2 for the model against the full dataset\n",
    "lr.score(X0,y0)"
   ]
  },
  {
   "cell_type": "markdown",
   "metadata": {},
   "source": [
    "---\n",
    "\n",
    "#### The below sections shows the modification of functional form of features. Log-scaling the target, and several features did not improve the model. "
   ]
  },
  {
   "cell_type": "code",
   "execution_count": 42,
   "metadata": {},
   "outputs": [
    {
     "data": {
      "image/png": "[encoded data removed]",
      "text/plain": [
       "<Figure size 432x288 with 1 Axes>"
      ]
     },
     "metadata": {},
     "output_type": "display_data"
    }
   ],
   "source": [
    "# take log of price and graph\n",
    "sfrent_df['log_price']=np.log(sfrent_df.rental_price)\n",
    "sfrent_df.log_price.hist();\n",
    "#looks better than before"
   ]
  },
  {
   "cell_type": "code",
   "execution_count": 43,
   "metadata": {},
   "outputs": [
    {
     "data": {
      "text/html": [
       "<table class=\"simpletable\">\n",
       "<caption>OLS Regression Results</caption>\n",
       "<tr>\n",
       "  <th>Dep. Variable:</th>        <td>log_price</td>    <th>  R-squared:         </th> <td>   0.463</td>\n",
       "</tr>\n",
       "<tr>\n",
       "  <th>Model:</th>                   <td>OLS</td>       <th>  Adj. R-squared:    </th> <td>   0.457</td>\n",
       "</tr>\n",
       "<tr>\n",
       "  <th>Method:</th>             <td>Least Squares</td>  <th>  F-statistic:       </th> <td>   72.19</td>\n",
       "</tr>\n",
       "<tr>\n",
       "  <th>Date:</th>             <td>Thu, 23 May 2019</td> <th>  Prob (F-statistic):</th> <td>1.19e-95</td>\n",
       "</tr>\n",
       "<tr>\n",
       "  <th>Time:</th>                 <td>20:41:31</td>     <th>  Log-Likelihood:    </th> <td> -4.9448</td>\n",
       "</tr>\n",
       "<tr>\n",
       "  <th>No. Observations:</th>      <td>   763</td>      <th>  AIC:               </th> <td>   29.89</td>\n",
       "</tr>\n",
       "<tr>\n",
       "  <th>Df Residuals:</th>          <td>   753</td>      <th>  BIC:               </th> <td>   76.26</td>\n",
       "</tr>\n",
       "<tr>\n",
       "  <th>Df Model:</th>              <td>     9</td>      <th>                     </th>     <td> </td>   \n",
       "</tr>\n",
       "<tr>\n",
       "  <th>Covariance Type:</th>      <td>nonrobust</td>    <th>                     </th>     <td> </td>   \n",
       "</tr>\n",
       "</table>\n",
       "<table class=\"simpletable\">\n",
       "<tr>\n",
       "           <td></td>             <th>coef</th>     <th>std err</th>      <th>t</th>      <th>P>|t|</th>  <th>[0.025</th>    <th>0.975]</th>  \n",
       "</tr>\n",
       "<tr>\n",
       "  <th>Intercept</th>          <td>    7.4694</td> <td>    0.040</td> <td>  184.513</td> <td> 0.000</td> <td>    7.390</td> <td>    7.549</td>\n",
       "</tr>\n",
       "<tr>\n",
       "  <th>bedrooms</th>           <td>    0.1557</td> <td>    0.024</td> <td>    6.510</td> <td> 0.000</td> <td>    0.109</td> <td>    0.203</td>\n",
       "</tr>\n",
       "<tr>\n",
       "  <th>bathrooms</th>          <td>    0.0362</td> <td>    0.033</td> <td>    1.092</td> <td> 0.275</td> <td>   -0.029</td> <td>    0.101</td>\n",
       "</tr>\n",
       "<tr>\n",
       "  <th>Area_SqFt</th>          <td>    0.0003</td> <td>  6.3e-05</td> <td>    4.094</td> <td> 0.000</td> <td>    0.000</td> <td>    0.000</td>\n",
       "</tr>\n",
       "<tr>\n",
       "  <th>pets_allowed</th>       <td>    0.1225</td> <td>    0.020</td> <td>    6.033</td> <td> 0.000</td> <td>    0.083</td> <td>    0.162</td>\n",
       "</tr>\n",
       "<tr>\n",
       "  <th>laundry_in_unit</th>    <td>    0.2674</td> <td>    0.029</td> <td>    9.329</td> <td> 0.000</td> <td>    0.211</td> <td>    0.324</td>\n",
       "</tr>\n",
       "<tr>\n",
       "  <th>laundry_on_premise</th> <td>    0.1156</td> <td>    0.025</td> <td>    4.658</td> <td> 0.000</td> <td>    0.067</td> <td>    0.164</td>\n",
       "</tr>\n",
       "<tr>\n",
       "  <th>furnished</th>          <td>    0.0429</td> <td>    0.032</td> <td>    1.349</td> <td> 0.178</td> <td>   -0.020</td> <td>    0.105</td>\n",
       "</tr>\n",
       "<tr>\n",
       "  <th>parking_available</th>  <td>    0.0576</td> <td>    0.020</td> <td>    2.909</td> <td> 0.004</td> <td>    0.019</td> <td>    0.096</td>\n",
       "</tr>\n",
       "<tr>\n",
       "  <th>no_smoking</th>         <td>   -0.0436</td> <td>    0.019</td> <td>   -2.309</td> <td> 0.021</td> <td>   -0.081</td> <td>   -0.007</td>\n",
       "</tr>\n",
       "</table>\n",
       "<table class=\"simpletable\">\n",
       "<tr>\n",
       "  <th>Omnibus:</th>       <td>335.694</td> <th>  Durbin-Watson:     </th> <td>   1.673</td>\n",
       "</tr>\n",
       "<tr>\n",
       "  <th>Prob(Omnibus):</th> <td> 0.000</td>  <th>  Jarque-Bera (JB):  </th> <td>3075.512</td>\n",
       "</tr>\n",
       "<tr>\n",
       "  <th>Skew:</th>          <td>-1.744</td>  <th>  Prob(JB):          </th> <td>    0.00</td>\n",
       "</tr>\n",
       "<tr>\n",
       "  <th>Kurtosis:</th>      <td>12.197</td>  <th>  Cond. No.          </th> <td>4.42e+03</td>\n",
       "</tr>\n",
       "</table><br/><br/>Warnings:<br/>[1] Standard Errors assume that the covariance matrix of the errors is correctly specified.<br/>[2] The condition number is large, 4.42e+03. This might indicate that there are<br/>strong multicollinearity or other numerical problems."
      ],
      "text/plain": [
       "<class 'statsmodels.iolib.summary.Summary'>\n",
       "\"\"\"\n",
       "                            OLS Regression Results                            \n",
       "==============================================================================\n",
       "Dep. Variable:              log_price   R-squared:                       0.463\n",
       "Model:                            OLS   Adj. R-squared:                  0.457\n",
       "Method:                 Least Squares   F-statistic:                     72.19\n",
       "Date:                Thu, 23 May 2019   Prob (F-statistic):           1.19e-95\n",
       "Time:                        20:41:31   Log-Likelihood:                -4.9448\n",
       "No. Observations:                 763   AIC:                             29.89\n",
       "Df Residuals:                     753   BIC:                             76.26\n",
       "Df Model:                           9                                         \n",
       "Covariance Type:            nonrobust                                         \n",
       "======================================================================================\n",
       "                         coef    std err          t      P>|t|      [0.025      0.975]\n",
       "--------------------------------------------------------------------------------------\n",
       "Intercept              7.4694      0.040    184.513      0.000       7.390       7.549\n",
       "bedrooms               0.1557      0.024      6.510      0.000       0.109       0.203\n",
       "bathrooms              0.0362      0.033      1.092      0.275      -0.029       0.101\n",
       "Area_SqFt              0.0003    6.3e-05      4.094      0.000       0.000       0.000\n",
       "pets_allowed           0.1225      0.020      6.033      0.000       0.083       0.162\n",
       "laundry_in_unit        0.2674      0.029      9.329      0.000       0.211       0.324\n",
       "laundry_on_premise     0.1156      0.025      4.658      0.000       0.067       0.164\n",
       "furnished              0.0429      0.032      1.349      0.178      -0.020       0.105\n",
       "parking_available      0.0576      0.020      2.909      0.004       0.019       0.096\n",
       "no_smoking            -0.0436      0.019     -2.309      0.021      -0.081      -0.007\n",
       "==============================================================================\n",
       "Omnibus:                      335.694   Durbin-Watson:                   1.673\n",
       "Prob(Omnibus):                  0.000   Jarque-Bera (JB):             3075.512\n",
       "Skew:                          -1.744   Prob(JB):                         0.00\n",
       "Kurtosis:                      12.197   Cond. No.                     4.42e+03\n",
       "==============================================================================\n",
       "\n",
       "Warnings:\n",
       "[1] Standard Errors assume that the covariance matrix of the errors is correctly specified.\n",
       "[2] The condition number is large, 4.42e+03. This might indicate that there are\n",
       "strong multicollinearity or other numerical problems.\n",
       "\"\"\""
      ]
     },
     "execution_count": 43,
     "metadata": {},
     "output_type": "execute_result"
    }
   ],
   "source": [
    "# using log_price did not improve the model\n",
    "y, X = patsy.dmatrices('log_price ~ bedrooms + bathrooms + Area_SqFt + pets_allowed + laundry_in_unit \\\n",
    "+ laundry_on_premise + furnished + parking_available + no_smoking' , data=sfrent_df, return_type=\"dataframe\")\n",
    "\n",
    "model2 = sm.OLS(y, X)\n",
    "fit2 = model2.fit()\n",
    "fit2.summary()"
   ]
  },
  {
   "cell_type": "code",
   "execution_count": 44,
   "metadata": {},
   "outputs": [
    {
     "data": {
      "text/plain": [
       "log_price                1.000000\n",
       "rental_price             0.947434\n",
       "Area_SqFt                0.508566\n",
       "bedrooms                 0.463450\n",
       "laundry_in_unit          0.462243\n",
       "bathrooms                0.451868\n",
       "pets_allowed             0.280059\n",
       "parking_available        0.239453\n",
       "wheelchair_accessible    0.117140\n",
       "furnished                0.091186\n",
       "no_smoking              -0.029722\n",
       "laundry_on_premise      -0.217721\n",
       "Name: log_price, dtype: float64"
      ]
     },
     "execution_count": 44,
     "metadata": {},
     "output_type": "execute_result"
    }
   ],
   "source": [
    "sfrent_df.corr()['log_price'].sort_values(ascending=False)"
   ]
  },
  {
   "cell_type": "code",
   "execution_count": 45,
   "metadata": {},
   "outputs": [
    {
     "data": {
      "image/png": "[encoded data removed]",
      "text/plain": [
       "<Figure size 432x288 with 1 Axes>"
      ]
     },
     "metadata": {},
     "output_type": "display_data"
    }
   ],
   "source": [
    "# take log of area and graph\n",
    "sfrent_df['log_Area']=np.log(sfrent_df.Area_SqFt)\n",
    "sfrent_df['log_bed']=np.log(sfrent_df.bedrooms)\n",
    "sfrent_df['log_bath']=np.log(sfrent_df.bathrooms)\n",
    "sfrent_df['log_Laundry']=np.log(sfrent_df.laundry_in_unit)\n",
    "sfrent_df.log_Area.hist();"
   ]
  },
  {
   "cell_type": "code",
   "execution_count": 46,
   "metadata": {},
   "outputs": [
    {
     "data": {
      "text/plain": [
       "rental_price             1.000000\n",
       "log_price                0.947434\n",
       "Area_SqFt                0.610725\n",
       "log_Area                 0.548417\n",
       "bathrooms                0.537987\n",
       "log_bath                 0.532554\n",
       "bedrooms                 0.518368\n",
       "log_bed                  0.511432\n",
       "laundry_in_unit          0.479112\n",
       "parking_available        0.241528\n",
       "pets_allowed             0.240749\n",
       "furnished                0.125088\n",
       "wheelchair_accessible    0.104575\n",
       "no_smoking              -0.041661\n",
       "laundry_on_premise      -0.253607\n",
       "log_Laundry                   NaN\n",
       "Name: rental_price, dtype: float64"
      ]
     },
     "execution_count": 46,
     "metadata": {},
     "output_type": "execute_result"
    }
   ],
   "source": [
    "sfrent_df.corr()['rental_price'].sort_values(ascending=False)"
   ]
  },
  {
   "cell_type": "markdown",
   "metadata": {},
   "source": [
    "**Note: Logging several features did not improve the model at all as you can see that the correlation coefficients are lower with the log price**"
   ]
  },
  {
   "cell_type": "markdown",
   "metadata": {},
   "source": [
    "---\n",
    "### Validating with SKLEARN: check functional forms, adjust polynomails, apply regularization\n",
    "\n",
    "\n",
    "Performing a random train and test split at test_size = 0.3 yielded similar R^2 score as models above. Results: 0.601, 0.573, 0.492, .507, .565, .582  **Average ~ .553**"
   ]
  },
  {
   "cell_type": "code",
   "execution_count": 47,
   "metadata": {},
   "outputs": [
    {
     "data": {
      "text/plain": [
       "0.5361725259607466"
      ]
     },
     "execution_count": 47,
     "metadata": {},
     "output_type": "execute_result"
    }
   ],
   "source": [
    "# Random train/test split\n",
    "y, X = patsy.dmatrices('rental_price ~ bedrooms + bathrooms + Area_SqFt + pets_allowed + laundry_in_unit \\\n",
    "+ laundry_on_premise + furnished + parking_available + no_smoking' , data=sfrent_df, return_type=\"dataframe\")\n",
    "\n",
    "lr = LinearRegression()\n",
    "\n",
    "# Split the data into training and test sets\n",
    "X_train, X_test, y_train, y_test = train_test_split(X, y, test_size=0.3)\n",
    "\n",
    "# Fit the model against the training data\n",
    "lr.fit(X_train, y_train)\n",
    "\n",
    "# Evaluate the model against the testing data\n",
    "lr.score(X_test, y_test)"
   ]
  },
  {
   "cell_type": "markdown",
   "metadata": {},
   "source": [
    "---\n",
    "\n",
    "Root Mean squared error from a 5-fold cross validation resulted in a average of about 852 dollars. This is reasonable given that the average rent is about 3638 dollars, and the adjusted R^2 score is .547 meaning this model explains just a little bit more than half of the variance. (see below section)"
   ]
  },
  {
   "cell_type": "code",
   "execution_count": 48,
   "metadata": {},
   "outputs": [
    {
     "name": "stdout",
     "output_type": "stream",
     "text": [
      "[1077625.18457098  438855.42699108  573702.31109718  438690.49267612\n",
      " 1100238.0410958 ]\n",
      "851.9520475274602\n"
     ]
    }
   ],
   "source": [
    "# 5-fold cross-validation \n",
    "reg = LinearRegression()\n",
    "scores = cross_val_score(reg, X, y, cv=5, scoring= 'neg_mean_squared_error')\n",
    "\n",
    "# scores output is negative, a sklearn quirk bc mse is used to min. optimization func.\n",
    "print(-scores)\n",
    "\n",
    "# took squareroot of average of the scores to get RMSE \n",
    "err = np.sqrt(np.average(-scores))\n",
    "print(err)"
   ]
  },
  {
   "cell_type": "markdown",
   "metadata": {},
   "source": [
    "using sklearn.cross_validation Kfold method yielded a slightly lower R^2 score"
   ]
  },
  {
   "cell_type": "code",
   "execution_count": 49,
   "metadata": {},
   "outputs": [
    {
     "data": {
      "text/plain": [
       "0.5288930702347073"
      ]
     },
     "execution_count": 49,
     "metadata": {},
     "output_type": "execute_result"
    }
   ],
   "source": [
    "est=LinearRegression()\n",
    "\n",
    "kf=KFold(n_splits=5,shuffle=True, random_state =4)\n",
    "# kf.get_n_splits(len(X))\n",
    "\n",
    "all_scores=[] \n",
    "\n",
    "# get indices of corresponding train & test\n",
    "for train,test in kf.split(X):\n",
    "    x_train=X.iloc[train]\n",
    "    y_train=y.iloc[train]\n",
    "    x_test=X.iloc[test]\n",
    "    y_test=y.iloc[test]\n",
    "    pvals=[]\n",
    "    sig_cols=[]\n",
    "    \n",
    "    for feature in x_train.columns:\n",
    "        pval=f_select.f_regression(x_train[[feature]],y_train)\n",
    "        if pval[1][0]<.02: \n",
    "            sig_cols.append(feature)\n",
    "            pvals.append(pval[1][0])\n",
    "            \n",
    "    est.fit(x_train[sig_cols],y_train)\n",
    "    r_2=est.score(x_test[sig_cols],y_test)\n",
    "    all_scores.append(r_2)\n",
    "        \n",
    "np.mean(all_scores)"
   ]
  },
  {
   "cell_type": "markdown",
   "metadata": {},
   "source": [
    "---\n",
    "\n",
    "Adjusting Polynomials did not improve the model"
   ]
  },
  {
   "cell_type": "code",
   "execution_count": 50,
   "metadata": {},
   "outputs": [],
   "source": [
    "poly = PolynomialFeatures(2)\n",
    "X_poly = poly.fit_transform(X)"
   ]
  },
  {
   "cell_type": "code",
   "execution_count": 51,
   "metadata": {},
   "outputs": [
    {
     "data": {
      "text/plain": [
       "array([ 0.35995254,  0.22044706, -0.0011058 ,  0.25273778,  0.20085531])"
      ]
     },
     "execution_count": 51,
     "metadata": {},
     "output_type": "execute_result"
    }
   ],
   "source": [
    "cross_val_score(lr, X_poly, y, cv=5)"
   ]
  },
  {
   "cell_type": "markdown",
   "metadata": {},
   "source": [
    "Applying Ridge Cross Validation did not imporved the model"
   ]
  },
  {
   "cell_type": "code",
   "execution_count": 52,
   "metadata": {},
   "outputs": [],
   "source": [
    "scaler = StandardScaler() # standardize data pior to applying regularization\n",
    "X_std = scaler.fit_transform(X)\n",
    "\n",
    "X_train_std, X_test_std, y_train, y_test = train_test_split(X_std, y, test_size=0.3)"
   ]
  },
  {
   "cell_type": "code",
   "execution_count": 53,
   "metadata": {},
   "outputs": [
    {
     "data": {
      "text/plain": [
       "0.5452752830424782"
      ]
     },
     "execution_count": 53,
     "metadata": {},
     "output_type": "execute_result"
    }
   ],
   "source": [
    "# ridgeCV uses cross-validation to find alpha and then runs a normal regression for the score\n",
    "rcv = RidgeCV(cv=5)\n",
    "rcv.fit(X_train_std, y_train)\n",
    "rcv.score(X_test_std, y_test)"
   ]
  },
  {
   "cell_type": "markdown",
   "metadata": {},
   "source": [
    "Applying Lasso Cross Validation did not improved the model, in fact it made the model worse by more than 0.1  (See Below)"
   ]
  },
  {
   "cell_type": "code",
   "execution_count": 60,
   "metadata": {},
   "outputs": [],
   "source": [
    "scaler = StandardScaler() # standardize data pior to applying regularization\n",
    "X_std = scaler.fit_transform(X)"
   ]
  },
  {
   "cell_type": "code",
   "execution_count": 61,
   "metadata": {
    "collapsed": true
   },
   "outputs": [
    {
     "name": "stdout",
     "output_type": "stream",
     "text": [
      "<bound method RegressorMixin.score of LassoCV(alphas=None, copy_X=True, cv='warn', eps=0.001, fit_intercept=True,\n",
      "    max_iter=1000, n_alphas=100, n_jobs=None, normalize=False,\n",
      "    positive=False, precompute='auto', random_state=None,\n",
      "    selection='cyclic', tol=0.0001, verbose=False)>\n"
     ]
    }
   ],
   "source": [
    "from sklearn.linear_model import LassoCV\n",
    "\n",
    "model = LassoCV()\n",
    "fitted = model.fit(X_std, y)\n",
    "print(fitted.score)\n",
    "# print(dir(model))"
   ]
  },
  {
   "cell_type": "code",
   "execution_count": 62,
   "metadata": {
    "collapsed": true
   },
   "outputs": [
    {
     "data": {
      "text/plain": [
       "GridSearchCV(cv='warn', error_score='raise-deprecating',\n",
       "       estimator=Lasso(alpha=1.0, copy_X=True, fit_intercept=True, max_iter=1000,\n",
       "   normalize=False, positive=False, precompute=False, random_state=None,\n",
       "   selection='cyclic', tol=0.0001, warm_start=False),\n",
       "       fit_params=None, iid='warn', n_jobs=None,\n",
       "       param_grid={'alpha': [0, 1, 2, 3, 4, 5, 6, 7, 8, 9, 10]},\n",
       "       pre_dispatch='2*n_jobs', refit=True, return_train_score='warn',\n",
       "       scoring=None, verbose=0)"
      ]
     },
     "execution_count": 62,
     "metadata": {},
     "output_type": "execute_result"
    }
   ],
   "source": [
    "from sklearn.model_selection import GridSearchCV\n",
    "\n",
    "model = Lasso()\n",
    "# param_grid = {'alpha': [0, 1e-1, 1, 100, 1000, 10000]} \n",
    "# applied different ranges of alpha to dial in on optimal number\n",
    "param_grid = {'alpha': [0,1,2,3,4,5,6,7,8,9,10]}\n",
    "# param_grid = {'alpha': [0,10,20,30,40,50,60,70,80,90,100]}\n",
    "grid = GridSearchCV(model, param_grid=param_grid)\n",
    "grid.fit(X_std, y)"
   ]
  },
  {
   "cell_type": "code",
   "execution_count": 63,
   "metadata": {},
   "outputs": [
    {
     "name": "stdout",
     "output_type": "stream",
     "text": [
      "{'alpha': 5}\n",
      "0.4161563773197266\n"
     ]
    }
   ],
   "source": [
    "print(grid.best_params_)\n",
    "print(grid.best_score_)"
   ]
  },
  {
   "cell_type": "markdown",
   "metadata": {},
   "source": [
    "Applying regularization with polynomials degree 2 made the model worse as well"
   ]
  },
  {
   "cell_type": "code",
   "execution_count": 64,
   "metadata": {},
   "outputs": [],
   "source": [
    "scaler = StandardScaler() # standardize data pior to applying regularization\n",
    "X_poly2 = scaler.fit_transform(X_poly)"
   ]
  },
  {
   "cell_type": "code",
   "execution_count": 65,
   "metadata": {
    "collapsed": true
   },
   "outputs": [
    {
     "data": {
      "text/plain": [
       "GridSearchCV(cv='warn', error_score='raise-deprecating',\n",
       "       estimator=Ridge(alpha=1.0, copy_X=True, fit_intercept=True, max_iter=None,\n",
       "   normalize=False, random_state=None, solver='auto', tol=0.001),\n",
       "       fit_params=None, iid='warn', n_jobs=None,\n",
       "       param_grid={'alpha': array([ 10.     ,  10.90909, ...,  99.09091, 100.     ])},\n",
       "       pre_dispatch='2*n_jobs', refit=True, return_train_score='warn',\n",
       "       scoring=None, verbose=0)"
      ]
     },
     "execution_count": 65,
     "metadata": {},
     "output_type": "execute_result"
    }
   ],
   "source": [
    "# model = LassoCV()\n",
    "# model.fit(X_poly2, y)\n",
    "\n",
    "model = Ridge()\n",
    "# param_grid = {'alpha': [0, 1e-1, 1, 100, 1000, 10000, 1000000]}\n",
    "param_grid = {'alpha': np.linspace(10,100,100)}\n",
    "# param_grid = {}\n",
    "grid = GridSearchCV(model, param_grid=param_grid)\n",
    "grid.fit(X_poly2, y)"
   ]
  },
  {
   "cell_type": "code",
   "execution_count": 66,
   "metadata": {},
   "outputs": [
    {
     "name": "stdout",
     "output_type": "stream",
     "text": [
      "{'alpha': 100.0}\n",
      "0.4241681386683621\n"
     ]
    }
   ],
   "source": [
    "print(grid.best_params_)\n",
    "print(grid.best_score_)"
   ]
  },
  {
   "cell_type": "code",
   "execution_count": 67,
   "metadata": {
    "collapsed": true
   },
   "outputs": [
    {
     "data": {
      "text/plain": [
       "GridSearchCV(cv='warn', error_score='raise-deprecating',\n",
       "       estimator=Lasso(alpha=1.0, copy_X=True, fit_intercept=True, max_iter=1000,\n",
       "   normalize=False, positive=False, precompute=False, random_state=None,\n",
       "   selection='cyclic', tol=0.0001, warm_start=False),\n",
       "       fit_params=None, iid='warn', n_jobs=None,\n",
       "       param_grid={'alpha': array([ 10.     ,  10.90909, ...,  99.09091, 100.     ])},\n",
       "       pre_dispatch='2*n_jobs', refit=True, return_train_score='warn',\n",
       "       scoring=None, verbose=0)"
      ]
     },
     "execution_count": 67,
     "metadata": {},
     "output_type": "execute_result"
    }
   ],
   "source": [
    "model = Lasso()\n",
    "# param_grid = {'alpha': [0, 1e-1, 1, 100, 1000, 10000, 1000000]}\n",
    "param_grid = {'alpha': np.linspace(10,100,100)}\n",
    "# param_grid = {}\n",
    "grid = GridSearchCV(model, param_grid=param_grid)\n",
    "grid.fit(X_poly2, y)"
   ]
  },
  {
   "cell_type": "code",
   "execution_count": 68,
   "metadata": {
    "scrolled": false
   },
   "outputs": [
    {
     "name": "stdout",
     "output_type": "stream",
     "text": [
      "{'alpha': 14.545454545454545}\n",
      "0.43136291462571047\n"
     ]
    }
   ],
   "source": [
    "print(grid.best_params_)\n",
    "print(grid.best_score_)"
   ]
  },
  {
   "cell_type": "markdown",
   "metadata": {},
   "source": [
    "Given that both Ridge and Lasso Cross Validations made the model worse by a fairly large amount, it is safe to say that regularization will not improve the model, and therefore will not be applied."
   ]
  },
  {
   "cell_type": "markdown",
   "metadata": {},
   "source": [
    "Additional Check to see verify that higher degrees polynomial will not help the model "
   ]
  },
  {
   "cell_type": "code",
   "execution_count": 69,
   "metadata": {},
   "outputs": [
    {
     "data": {
      "text/plain": [
       "<matplotlib.legend.Legend at 0x1c22c11278>"
      ]
     },
     "execution_count": 69,
     "metadata": {},
     "output_type": "execute_result"
    },
    {
     "data": {
      "image/png": "[encoded data removed]",
      "text/plain": [
       "<Figure size 576x432 with 1 Axes>"
      ]
     },
     "metadata": {},
     "output_type": "display_data"
    }
   ],
   "source": [
    "# create polynomial features by taking our individual features and raising them \n",
    "# to a chosen power (range 0-9 degrees) \n",
    "\n",
    "# import Standard Scaler and input into pipeline to standardize features\n",
    "# scales our data down to a range between 0 and 1\n",
    "from sklearn.preprocessing import StandardScaler\n",
    "\n",
    "# split data\n",
    "X_train, X_test, y_train, y_test = train_test_split(X, y, test_size=0.8, random_state=10)\n",
    "\n",
    "import warnings\n",
    "warnings.filterwarnings(\"ignore\")\n",
    "from sklearn.metrics import mean_squared_error\n",
    "\n",
    "# Step through degrees from 0 to 9 and store the training and test (generalization) error.\n",
    "# create array of zeros,\n",
    "train_error = np.empty(10)\n",
    "test_error = np.empty(10)\n",
    "for degree in range(10):\n",
    "    est = make_pipeline(StandardScaler(),PolynomialFeatures(degree), LinearRegression())\n",
    "    est.fit(X_train, y_train)\n",
    "    train_error[degree] = mean_squared_error(y_train, est.predict(X_train))\n",
    "    test_error[degree] = mean_squared_error(y_test, est.predict(X_test))\n",
    "\n",
    "# Plot the training and test errors against degree\n",
    "plt.figure(figsize=(8,6))\n",
    "plt.plot(np.arange(10), train_error, color='green', label='train')\n",
    "plt.plot(np.arange(10), test_error, color='red', label='test')\n",
    "plt.ylim((0.0, 1e7))\n",
    "plt.ylabel('mean squared error')\n",
    "plt.xlabel('degree')\n",
    "plt.legend(loc='upper left')"
   ]
  },
  {
   "cell_type": "markdown",
   "metadata": {},
   "source": [
    "There was an unexpected spike in MSE on the training curve when the polynomial was at degree 2 when the test_size was at .8 and random state = 8.  When the random state was changed OR the test_size was changed, the training curve showed a normal curve such as the one above. However this didn't matter too much since the train and test errors was lowest at degree 1. A degree two or higher would lead to overfitting."
   ]
  },
  {
   "cell_type": "markdown",
   "metadata": {},
   "source": [
    "---\n",
    "After determining that regularization, modifying polynomials, and function forms does not improve the model, I decided to remove some features. Re-running and testing below."
   ]
  },
  {
   "cell_type": "code",
   "execution_count": 70,
   "metadata": {},
   "outputs": [
    {
     "data": {
      "text/html": [
       "<table class=\"simpletable\">\n",
       "<caption>OLS Regression Results</caption>\n",
       "<tr>\n",
       "  <th>Dep. Variable:</th>      <td>rental_price</td>   <th>  R-squared:         </th> <td>   0.521</td> \n",
       "</tr>\n",
       "<tr>\n",
       "  <th>Model:</th>                   <td>OLS</td>       <th>  Adj. R-squared:    </th> <td>   0.517</td> \n",
       "</tr>\n",
       "<tr>\n",
       "  <th>Method:</th>             <td>Least Squares</td>  <th>  F-statistic:       </th> <td>   136.9</td> \n",
       "</tr>\n",
       "<tr>\n",
       "  <th>Date:</th>             <td>Thu, 23 May 2019</td> <th>  Prob (F-statistic):</th> <td>3.34e-117</td>\n",
       "</tr>\n",
       "<tr>\n",
       "  <th>Time:</th>                 <td>20:50:52</td>     <th>  Log-Likelihood:    </th> <td> -6226.3</td> \n",
       "</tr>\n",
       "<tr>\n",
       "  <th>No. Observations:</th>      <td>   763</td>      <th>  AIC:               </th> <td>1.247e+04</td>\n",
       "</tr>\n",
       "<tr>\n",
       "  <th>Df Residuals:</th>          <td>   756</td>      <th>  BIC:               </th> <td>1.250e+04</td>\n",
       "</tr>\n",
       "<tr>\n",
       "  <th>Df Model:</th>              <td>     6</td>      <th>                     </th>     <td> </td>    \n",
       "</tr>\n",
       "<tr>\n",
       "  <th>Covariance Type:</th>      <td>nonrobust</td>    <th>                     </th>     <td> </td>    \n",
       "</tr>\n",
       "</table>\n",
       "<table class=\"simpletable\">\n",
       "<tr>\n",
       "           <td></td>             <th>coef</th>     <th>std err</th>      <th>t</th>      <th>P>|t|</th>  <th>[0.025</th>    <th>0.975]</th>  \n",
       "</tr>\n",
       "<tr>\n",
       "  <th>Intercept</th>          <td>  734.2482</td> <td>  128.492</td> <td>    5.714</td> <td> 0.000</td> <td>  482.005</td> <td>  986.491</td>\n",
       "</tr>\n",
       "<tr>\n",
       "  <th>Area_SqFt</th>          <td>    2.6539</td> <td>    0.131</td> <td>   20.313</td> <td> 0.000</td> <td>    2.397</td> <td>    2.910</td>\n",
       "</tr>\n",
       "<tr>\n",
       "  <th>pets_allowed</th>       <td>  329.1171</td> <td>   69.824</td> <td>    4.714</td> <td> 0.000</td> <td>  192.045</td> <td>  466.189</td>\n",
       "</tr>\n",
       "<tr>\n",
       "  <th>laundry_in_unit</th>    <td>  873.5448</td> <td>   98.168</td> <td>    8.898</td> <td> 0.000</td> <td>  680.830</td> <td> 1066.260</td>\n",
       "</tr>\n",
       "<tr>\n",
       "  <th>laundry_on_premise</th> <td>  282.3169</td> <td>   85.475</td> <td>    3.303</td> <td> 0.001</td> <td>  114.521</td> <td>  450.113</td>\n",
       "</tr>\n",
       "<tr>\n",
       "  <th>furnished</th>          <td>  270.0335</td> <td>  110.268</td> <td>    2.449</td> <td> 0.015</td> <td>   53.565</td> <td>  486.502</td>\n",
       "</tr>\n",
       "<tr>\n",
       "  <th>parking_available</th>  <td>  168.6923</td> <td>   67.127</td> <td>    2.513</td> <td> 0.012</td> <td>   36.915</td> <td>  300.470</td>\n",
       "</tr>\n",
       "</table>\n",
       "<table class=\"simpletable\">\n",
       "<tr>\n",
       "  <th>Omnibus:</th>       <td>139.523</td> <th>  Durbin-Watson:     </th> <td>   1.798</td>\n",
       "</tr>\n",
       "<tr>\n",
       "  <th>Prob(Omnibus):</th> <td> 0.000</td>  <th>  Jarque-Bera (JB):  </th> <td>1793.076</td>\n",
       "</tr>\n",
       "<tr>\n",
       "  <th>Skew:</th>          <td> 0.384</td>  <th>  Prob(JB):          </th> <td>    0.00</td>\n",
       "</tr>\n",
       "<tr>\n",
       "  <th>Kurtosis:</th>      <td>10.471</td>  <th>  Cond. No.          </th> <td>4.08e+03</td>\n",
       "</tr>\n",
       "</table><br/><br/>Warnings:<br/>[1] Standard Errors assume that the covariance matrix of the errors is correctly specified.<br/>[2] The condition number is large, 4.08e+03. This might indicate that there are<br/>strong multicollinearity or other numerical problems."
      ],
      "text/plain": [
       "<class 'statsmodels.iolib.summary.Summary'>\n",
       "\"\"\"\n",
       "                            OLS Regression Results                            \n",
       "==============================================================================\n",
       "Dep. Variable:           rental_price   R-squared:                       0.521\n",
       "Model:                            OLS   Adj. R-squared:                  0.517\n",
       "Method:                 Least Squares   F-statistic:                     136.9\n",
       "Date:                Thu, 23 May 2019   Prob (F-statistic):          3.34e-117\n",
       "Time:                        20:50:52   Log-Likelihood:                -6226.3\n",
       "No. Observations:                 763   AIC:                         1.247e+04\n",
       "Df Residuals:                     756   BIC:                         1.250e+04\n",
       "Df Model:                           6                                         \n",
       "Covariance Type:            nonrobust                                         \n",
       "======================================================================================\n",
       "                         coef    std err          t      P>|t|      [0.025      0.975]\n",
       "--------------------------------------------------------------------------------------\n",
       "Intercept            734.2482    128.492      5.714      0.000     482.005     986.491\n",
       "Area_SqFt              2.6539      0.131     20.313      0.000       2.397       2.910\n",
       "pets_allowed         329.1171     69.824      4.714      0.000     192.045     466.189\n",
       "laundry_in_unit      873.5448     98.168      8.898      0.000     680.830    1066.260\n",
       "laundry_on_premise   282.3169     85.475      3.303      0.001     114.521     450.113\n",
       "furnished            270.0335    110.268      2.449      0.015      53.565     486.502\n",
       "parking_available    168.6923     67.127      2.513      0.012      36.915     300.470\n",
       "==============================================================================\n",
       "Omnibus:                      139.523   Durbin-Watson:                   1.798\n",
       "Prob(Omnibus):                  0.000   Jarque-Bera (JB):             1793.076\n",
       "Skew:                           0.384   Prob(JB):                         0.00\n",
       "Kurtosis:                      10.471   Cond. No.                     4.08e+03\n",
       "==============================================================================\n",
       "\n",
       "Warnings:\n",
       "[1] Standard Errors assume that the covariance matrix of the errors is correctly specified.\n",
       "[2] The condition number is large, 4.08e+03. This might indicate that there are\n",
       "strong multicollinearity or other numerical problems.\n",
       "\"\"\""
      ]
     },
     "execution_count": 70,
     "metadata": {},
     "output_type": "execute_result"
    }
   ],
   "source": [
    "y2, X2 = patsy.dmatrices('rental_price ~ Area_SqFt + pets_allowed + laundry_in_unit \\\n",
    "+ laundry_on_premise + furnished + parking_available' , data=sfrent_df, return_type=\"dataframe\")\n",
    "\n",
    "# Create model\n",
    "model2 = sm.OLS(y2, X2)\n",
    "\n",
    "# Fit model to training set\n",
    "fit2 = model2.fit()\n",
    "\n",
    "# Print summary statistics of the model's performance\n",
    "fit2.summary()"
   ]
  },
  {
   "cell_type": "code",
   "execution_count": 71,
   "metadata": {},
   "outputs": [
    {
     "data": {
      "text/plain": [
       "0.4317927923574696"
      ]
     },
     "execution_count": 71,
     "metadata": {},
     "output_type": "execute_result"
    }
   ],
   "source": [
    "# Random train/test split\n",
    "y2, X2 = patsy.dmatrices('rental_price ~ Area_SqFt + pets_allowed + laundry_in_unit \\\n",
    "+ laundry_on_premise + furnished + parking_available' , data=sfrent_df, return_type=\"dataframe\")\n",
    "\n",
    "lr2 = LinearRegression()\n",
    "# INSTRUCTOR NOTE: Run this multiple times to show the variation\n",
    "# Split the data into training and test sets\n",
    "X2_train, X2_test, y2_train, y2_test = train_test_split(X2, y2, test_size=0.3)\n",
    "# Fit the model against the training data\n",
    "lr2.fit(X2_train, y2_train)\n",
    "# Evaluate the model against the testing data\n",
    "lr2.score(X2_test, y2_test)\n",
    "\n",
    "# Results: 0.606, .341, .444, .561, .37, .464\n",
    "# Average ~ .465"
   ]
  },
  {
   "cell_type": "code",
   "execution_count": 72,
   "metadata": {},
   "outputs": [
    {
     "name": "stdout",
     "output_type": "stream",
     "text": [
      "[1094784.57114627  506353.38167578  624136.52065357  462381.13504099\n",
      " 1142757.75447494]\n",
      "875.2614881270102\n"
     ]
    }
   ],
   "source": [
    "# 5-fold cross-validation \n",
    "reg2 = LinearRegression()\n",
    "scores2 = cross_val_score(reg2, X2, y2, cv=5, scoring='neg_mean_squared_error')\n",
    "\n",
    "# scores output is negative, a sklearn quirk bc mse is used to min. optimization func.\n",
    "print(-scores2)\n",
    "\n",
    "# took squareroot of average of the scores \n",
    "err2 = np.sqrt(np.average(-scores2))\n",
    "print(err2)\n",
    "# error = 922 (dollars)"
   ]
  },
  {
   "cell_type": "markdown",
   "metadata": {},
   "source": [
    "---\n",
    "After trying several iterations of different combinations of features being removed, some combinations did show slight improvements in skew, kurtosis, condition number, however, the improvements did not justify the large decrease in R-squared scroe and higher mean square error. \n",
    "\n",
    "In conclusion, the original ordinary least squares method provided the best prediction model. Adding regularization, modifying polynomials, and modifying function forms would only lead to overfitting, a significant drop in R-squared score, and lower the prediction accuracy of the model. "
   ]
  },
  {
   "cell_type": "markdown",
   "metadata": {},
   "source": [
    " ---\n",
    " Recommendations for Rentees:\n",
    " 1. Use Area (square footage) as a proxy for price. Area has the highest correlation with price, and the number of bedroom and bathrooms have a high colinearity with area. \n",
    " 2. Look for units with laundry on premise instead of laundry in unit. Rentals with washer and dryers within the unit commands a premium in prices.\n",
    " 3. Look for places that do not allow pets if you don’t have any. Pets allowed is a factor that tend to increase rent prices moderately.\n",
    "\n",
    "  \n",
    "    \n",
    "    \n",
    "\n",
    "Future Improvements to this Model:\n",
    "1. Add more data by scraping other websites such as Zillow and Trulia \n",
    "2. Add location (zip code) as categorical features \n",
    "3. Add time-series analysis to determine if rental units with similar features shows any variance in prices throughout the year\n",
    "4. Use current and future data as a basis in a seperate prediction model on determing tenant buyout agreements base on above mentioned features and location factors.\n"
   ]
  }
 ],
 "metadata": {
  "kernelspec": {
   "display_name": "Python 3",
   "language": "python",
   "name": "python3"
  },
  "language_info": {
   "codemirror_mode": {
    "name": "ipython",
    "version": 3
   },
   "file_extension": ".py",
   "mimetype": "text/x-python",
   "name": "python",
   "nbconvert_exporter": "python",
   "pygments_lexer": "ipython3",
   "version": "3.6.8"
  }
 },
 "nbformat": 4,
 "nbformat_minor": 2
}
